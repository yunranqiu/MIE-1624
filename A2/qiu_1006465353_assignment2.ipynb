{
  "nbformat": 4,
  "nbformat_minor": 0,
  "metadata": {
    "colab": {
      "name": "MIE1624A2.ipynb",
      "provenance": [],
      "collapsed_sections": [],
      "toc_visible": true,
      "machine_shape": "hm"
    },
    "kernelspec": {
      "name": "python3",
      "display_name": "Python 3"
    }
  },
  "cells": [
    {
      "cell_type": "code",
      "metadata": {
        "id": "rFNMEbbohtm-",
        "colab_type": "code",
        "outputId": "128f4d80-0519-4712-8cc9-c3f9c2a7bb93",
        "colab": {
          "base_uri": "https://localhost:8080/",
          "height": 126
        }
      },
      "source": [
        "import pandas as pd \n",
        "import numpy as np\n",
        "from google.colab import drive\n",
        "drive.mount('/content/drive')\n",
        "import os\n",
        "os.chdir('/content/drive/My Drive/mie1624/assignment2')\n",
        "from sklearn import preprocessing\n",
        "le = preprocessing.LabelEncoder()\n",
        "from sklearn.preprocessing import StandardScaler as scaler\n",
        "from mpl_toolkits.mplot3d import Axes3D\n",
        "from sklearn.model_selection import train_test_split\n",
        "from sklearn.metrics import accuracy_score\n",
        "import matplotlib.pyplot as plt\n",
        "import sklearn \n",
        "from sklearn import neighbors\n",
        "\n",
        "import matplotlib\n",
        "import matplotlib.pyplot as plt\n",
        "import re"
      ],
      "execution_count": 0,
      "outputs": [
        {
          "output_type": "stream",
          "text": [
            "Go to this URL in a browser: https://accounts.google.com/o/oauth2/auth?client_id=947318989803-6bn6qk8qdgf4n4g3pfee6491hc0brc4i.apps.googleusercontent.com&redirect_uri=urn%3aietf%3awg%3aoauth%3a2.0%3aoob&response_type=code&scope=email%20https%3a%2f%2fwww.googleapis.com%2fauth%2fdocs.test%20https%3a%2f%2fwww.googleapis.com%2fauth%2fdrive%20https%3a%2f%2fwww.googleapis.com%2fauth%2fdrive.photos.readonly%20https%3a%2f%2fwww.googleapis.com%2fauth%2fpeopleapi.readonly\n",
            "\n",
            "Enter your authorization code:\n",
            "··········\n",
            "Mounted at /content/drive\n"
          ],
          "name": "stdout"
        }
      ]
    },
    {
      "cell_type": "code",
      "metadata": {
        "id": "gm26RtWlkjAM",
        "colab_type": "code",
        "outputId": "eb419dd0-e887-4034-ab92-a3a92d147781",
        "colab": {
          "base_uri": "https://localhost:8080/",
          "height": 52
        }
      },
      "source": [
        "\n",
        "import nltk\n",
        "nltk.download(\"stopwords\")\n",
        "from nltk.tokenize import RegexpTokenizer\n",
        "from nltk.stem import PorterStemmer\n",
        "\n",
        "from sklearn.feature_extraction.text import CountVectorizer\n",
        "from sklearn.feature_extraction.text import TfidfVectorizer\n",
        "try:\n",
        "    from gensim.models import word2vec\n",
        "except:\n",
        "    !pip install gensim\n",
        "    from gensim.models import word2vec"
      ],
      "execution_count": 0,
      "outputs": [
        {
          "output_type": "stream",
          "text": [
            "[nltk_data] Downloading package stopwords to /root/nltk_data...\n",
            "[nltk_data]   Unzipping corpora/stopwords.zip.\n"
          ],
          "name": "stdout"
        }
      ]
    },
    {
      "cell_type": "code",
      "metadata": {
        "id": "1b__B-ANMmJf",
        "colab_type": "code",
        "outputId": "ac7edb6e-f4b1-4dcc-e441-f24f04ed777a",
        "colab": {
          "base_uri": "https://localhost:8080/",
          "height": 106
        }
      },
      "source": [
        "from sklearn import preprocessing\n",
        "le = preprocessing.LabelEncoder()\n",
        "from sklearn.preprocessing import StandardScaler as scaler\n",
        "from mpl_toolkits.mplot3d import Axes3D\n",
        "from sklearn.model_selection import train_test_split\n",
        "from sklearn.metrics import accuracy_score\n",
        "import matplotlib.pyplot as plt\n",
        "import sklearn \n",
        "from sklearn import neighbors\n",
        "import re\n",
        "\n",
        "import nltk\n",
        "\n",
        "\n",
        "\n",
        "from collections import Counter\n",
        "from functools import reduce\n",
        "\n",
        "\n",
        "!pip install wordcloud\n",
        "from wordcloud import WordCloud\n",
        "\n",
        "import html\n",
        "import re\n",
        "from scipy import stats\n",
        "import random\n",
        "random.seed()\n",
        "\n",
        "!pip install nltk\n",
        "import nltk\n",
        "from nltk.tokenize import RegexpTokenizer\n",
        "\n",
        "\n",
        "import nltk\n",
        "\n",
        "from nltk.stem import *\n",
        "from nltk.corpus import stopwords\n",
        "from nltk.tokenize import RegexpTokenizer\n",
        "\n",
        "from sklearn.linear_model import LogisticRegression\n",
        "from sklearn.naive_bayes import GaussianNB, BernoulliNB, MultinomialNB\n",
        "from sklearn.model_selection import train_test_split\n",
        "from sklearn.metrics import accuracy_score, confusion_matrix\n",
        "from sklearn.exceptions import ConvergenceWarning\n",
        "from sklearn.feature_extraction.text import CountVectorizer\n",
        "from sklearn.metrics import classification_report\n",
        "\n",
        "\n",
        "import collections\n",
        "from wordcloud import WordCloud"
      ],
      "execution_count": 0,
      "outputs": [
        {
          "output_type": "stream",
          "text": [
            "Requirement already satisfied: wordcloud in /usr/local/lib/python3.6/dist-packages (1.5.0)\n",
            "Requirement already satisfied: numpy>=1.6.1 in /usr/local/lib/python3.6/dist-packages (from wordcloud) (1.18.2)\n",
            "Requirement already satisfied: pillow in /usr/local/lib/python3.6/dist-packages (from wordcloud) (7.0.0)\n",
            "Requirement already satisfied: nltk in /usr/local/lib/python3.6/dist-packages (3.2.5)\n",
            "Requirement already satisfied: six in /usr/local/lib/python3.6/dist-packages (from nltk) (1.12.0)\n"
          ],
          "name": "stdout"
        }
      ]
    },
    {
      "cell_type": "markdown",
      "metadata": {
        "id": "MO8NOdzvr7SZ",
        "colab_type": "text"
      },
      "source": [
        "这边的人规矩到发twitter都会# 完了自动空格吗\n",
        "或者我们对每一个单词之间的空格做split 然后删去含有# 之类的东西。\n",
        "但是这样就会出现\n",
        "my yuan is thief six 的情况"
      ]
    },
    {
      "cell_type": "code",
      "metadata": {
        "id": "eO1PUd3QLbtf",
        "colab_type": "code",
        "colab": {}
      },
      "source": [
        "dfsel=pd.read_csv(\"Canadian_elections_2019.csv\")\n",
        "lines = pd.read_csv(\"stop_words.txt\")\n",
        "lines=lines['a'].tolist()\n",
        "lines.append(\"a\")\n",
        "\n",
        "dfsen=pd.read_csv(\"Sentiment.csv\")"
      ],
      "execution_count": 0,
      "outputs": []
    },
    {
      "cell_type": "code",
      "metadata": {
        "id": "nKrCA_R3LgBc",
        "colab_type": "code",
        "colab": {}
      },
      "source": [
        "def clean_file_text(file):\n",
        "    \n",
        "    wordlist = []\n",
        "    tokenizer = RegexpTokenizer(r'\\w+')\n",
        "    lemmatiser = WordNetLemmatizer()\n",
        "    stemmer = LancasterStemmer()\n",
        "    stopwords = lines\n",
        "\n",
        "\n",
        "    for i in range(len(file)):\n",
        "    # remove all URLs \n",
        "        new_file = re.sub(r\"http\\S+\",\"\", file[i])\n",
        "    # remove html tags\n",
        "        comp = re.compile('<.*?>')\n",
        "        new_file = re.sub(comp, '', new_file)\n",
        "    # replaced HTML characters with an ASCII equivalent\n",
        "        new_file = html.unescape(new_file)\n",
        "    \n",
        "        new_file = re.sub('[^A-Za-z0-9 ]+', '', new_file)\n",
        "        new_file = re.sub(r'[?|$|.|!|@|&]',r'',new_file)\n",
        "        new_file = new_file.lower()\n",
        "\n",
        "        file_words = [i for i in tokenizer.tokenize(new_file) if i not in stopwords]\n",
        "       \n",
        "        wordlist.append(file_words)\n",
        " \n",
        "    return wordlist\n",
        "#we cant add ps() in the function because we need to draw a word cloud "
      ],
      "execution_count": 0,
      "outputs": []
    },
    {
      "cell_type": "markdown",
      "metadata": {
        "id": "nhrhCWMAipiS",
        "colab_type": "text"
      },
      "source": [
        "## selection"
      ]
    },
    {
      "cell_type": "code",
      "metadata": {
        "id": "wfDJMVkOMBpE",
        "colab_type": "code",
        "colab": {}
      },
      "source": [
        "iiilist=dfsel['text'].tolist()\n",
        "for i in range(len(iiilist)):\n",
        "  a=iiilist[i]\n",
        "  a=str(a)\n",
        "  iiilist[i]=a\n",
        "\n",
        "for i in range(len(iiilist)):\n",
        "  a=iiilist[i]\n",
        "  a=a.lstrip(\"b\")\n",
        "  iiilist[i]=a"
      ],
      "execution_count": 0,
      "outputs": []
    },
    {
      "cell_type": "code",
      "metadata": {
        "id": "2b1LtET3MBJy",
        "colab_type": "code",
        "colab": {}
      },
      "source": [
        "dfsel['cleantext']=clean_file_text(iiilist)\n",
        "iiilist=dfsel['cleantext'].tolist()"
      ],
      "execution_count": 0,
      "outputs": []
    },
    {
      "cell_type": "code",
      "metadata": {
        "id": "y85socJzy_jg",
        "colab_type": "code",
        "colab": {}
      },
      "source": [
        "listforselcloud=iiilist.copy()"
      ],
      "execution_count": 0,
      "outputs": []
    },
    {
      "cell_type": "code",
      "metadata": {
        "id": "xIjUi_nVMBHB",
        "colab_type": "code",
        "colab": {}
      },
      "source": [
        "ps = PorterStemmer()\n",
        "for i in range(len(iiilist)):\n",
        "  iiilist[i] = [ps.stem(word) for word in iiilist[i]] "
      ],
      "execution_count": 0,
      "outputs": []
    },
    {
      "cell_type": "code",
      "metadata": {
        "id": "eGbeuL5pMBFQ",
        "colab_type": "code",
        "colab": {}
      },
      "source": [
        "#output=[]\n",
        "#for i in iiilist:\n",
        "#  output.extend(i)\n",
        "\n",
        "#dfformodel111=pd.DataFrame()\n",
        "#dfformodel111['all']=output\n",
        "#dfformodel111=pd.DataFrame(dfformodel111['all'].value_counts())\n",
        "#usefulword=dfformodel111.loc[dfformodel111['all']>=50].index.tolist()"
      ],
      "execution_count": 0,
      "outputs": []
    },
    {
      "cell_type": "code",
      "metadata": {
        "id": "wRPIb_uaMBB2",
        "colab_type": "code",
        "colab": {}
      },
      "source": [
        "joining=\" \"\n",
        "\n",
        "for i in range(len(iiilist)):\n",
        "  a=joining.join(iiilist[i])\n",
        "  iiilist[i]=a\n",
        "\n",
        "dfsel['cleantext']=iiilist"
      ],
      "execution_count": 0,
      "outputs": []
    },
    {
      "cell_type": "markdown",
      "metadata": {
        "id": "F8aNpdz5irB9",
        "colab_type": "text"
      },
      "source": [
        "##Sentiment"
      ]
    },
    {
      "cell_type": "code",
      "metadata": {
        "id": "ra2hFbYQLo5E",
        "colab_type": "code",
        "colab": {}
      },
      "source": [
        "dfsen=dfsen.dropna()\n"
      ],
      "execution_count": 0,
      "outputs": []
    },
    {
      "cell_type": "code",
      "metadata": {
        "id": "jGvkZUNMLo3S",
        "colab_type": "code",
        "colab": {}
      },
      "source": [
        "iiilist=dfsen['text'].tolist()\n",
        "for i in range(len(iiilist)):\n",
        "  a=iiilist[i]\n",
        "  a=str(a)\n",
        "  iiilist[i]=a\n",
        "\n",
        "for i in range(len(iiilist)):\n",
        "  a=iiilist[i]\n",
        "  a=a.lstrip(\"b\")\n",
        "  iiilist[i]=a"
      ],
      "execution_count": 0,
      "outputs": []
    },
    {
      "cell_type": "code",
      "metadata": {
        "id": "d_rM4RyeLo0H",
        "colab_type": "code",
        "colab": {}
      },
      "source": [
        "dfsen['cleantext']=clean_file_text(iiilist)\n",
        "iiilist=dfsen['cleantext'].tolist()"
      ],
      "execution_count": 0,
      "outputs": []
    },
    {
      "cell_type": "code",
      "metadata": {
        "id": "a3sG20T7zPek",
        "colab_type": "code",
        "colab": {}
      },
      "source": [
        "listforsencloud=iiilist.copy()"
      ],
      "execution_count": 0,
      "outputs": []
    },
    {
      "cell_type": "code",
      "metadata": {
        "id": "KQcYIPaTLoxV",
        "colab_type": "code",
        "colab": {}
      },
      "source": [
        "ps = PorterStemmer()\n",
        "for i in range(len(iiilist)):\n",
        "  iiilist[i] = [ps.stem(word) for word in iiilist[i]] "
      ],
      "execution_count": 0,
      "outputs": []
    },
    {
      "cell_type": "code",
      "metadata": {
        "id": "uROP__MLLou3",
        "colab_type": "code",
        "colab": {}
      },
      "source": [
        "output=[]\n",
        "for i in iiilist:\n",
        "  output.extend(i)\n",
        "\n",
        "dfformodel111=pd.DataFrame()\n",
        "dfformodel111['all']=output\n",
        "dfformodel111=pd.DataFrame(dfformodel111['all'].value_counts())\n",
        "usefulword=dfformodel111.loc[dfformodel111['all']>=50].index.tolist()"
      ],
      "execution_count": 0,
      "outputs": []
    },
    {
      "cell_type": "markdown",
      "metadata": {
        "id": "CozTLtpfB9zf",
        "colab_type": "text"
      },
      "source": [
        "we only pick up the word whose WF is higher than 50, due the risk of crash of the code. for the dataset concludes 130000 data points, even the word whose WF is lower than 50 have significant relationship with sentiment, it will be consider as an outliner due to very little sample number.\n",
        "(why we choose 50 is that 50 is the min value we can aviod the crash happen( according to practical experiment, we still want to get as more information as possible.)"
      ]
    },
    {
      "cell_type": "code",
      "metadata": {
        "id": "LEiVjDVnLosM",
        "colab_type": "code",
        "colab": {}
      },
      "source": [
        "for i in range(len(iiilist)):\n",
        "  iiilist[i]=[word for word in iiilist[i] if word in usefulword]"
      ],
      "execution_count": 0,
      "outputs": []
    },
    {
      "cell_type": "code",
      "metadata": {
        "id": "MwzLSk5IHr1-",
        "colab_type": "code",
        "outputId": "0fa1d4fa-2fd7-41b1-c276-b7f1c6815c77",
        "colab": {
          "base_uri": "https://localhost:8080/",
          "height": 35
        }
      },
      "source": [
        "len(usefulword)"
      ],
      "execution_count": 0,
      "outputs": [
        {
          "output_type": "execute_result",
          "data": {
            "text/plain": [
              "2076"
            ]
          },
          "metadata": {
            "tags": []
          },
          "execution_count": 19
        }
      ]
    },
    {
      "cell_type": "code",
      "metadata": {
        "id": "P0A7mulgLop3",
        "colab_type": "code",
        "colab": {}
      },
      "source": [
        "joining=\" \"\n",
        "\n",
        "for i in range(len(iiilist)):\n",
        "  a=joining.join(iiilist[i])\n",
        "  iiilist[i]=a\n",
        "\n",
        "dfsen['cleantext']=iiilist"
      ],
      "execution_count": 0,
      "outputs": []
    },
    {
      "cell_type": "markdown",
      "metadata": {
        "id": "ukmvNKw_L0l7",
        "colab_type": "text"
      },
      "source": [
        "##explore for polictics party"
      ]
    },
    {
      "cell_type": "code",
      "metadata": {
        "id": "Hx1ocwP_NnQu",
        "colab_type": "code",
        "outputId": "157363ed-2dcc-43cc-d938-1db4d8dbba52",
        "colab": {
          "base_uri": "https://localhost:8080/",
          "height": 399
        }
      },
      "source": [
        "dfsel"
      ],
      "execution_count": 0,
      "outputs": [
        {
          "output_type": "execute_result",
          "data": {
            "text/html": [
              "<div>\n",
              "<style scoped>\n",
              "    .dataframe tbody tr th:only-of-type {\n",
              "        vertical-align: middle;\n",
              "    }\n",
              "\n",
              "    .dataframe tbody tr th {\n",
              "        vertical-align: top;\n",
              "    }\n",
              "\n",
              "    .dataframe thead th {\n",
              "        text-align: right;\n",
              "    }\n",
              "</style>\n",
              "<table border=\"1\" class=\"dataframe\">\n",
              "  <thead>\n",
              "    <tr style=\"text-align: right;\">\n",
              "      <th></th>\n",
              "      <th>sentiment</th>\n",
              "      <th>negative_reason</th>\n",
              "      <th>text</th>\n",
              "      <th>cleantext</th>\n",
              "    </tr>\n",
              "  </thead>\n",
              "  <tbody>\n",
              "    <tr>\n",
              "      <th>0</th>\n",
              "      <td>Negative</td>\n",
              "      <td>Women Reproductive right and Racism</td>\n",
              "      <td>b\"@RosieBarton So instead of your suggestion, ...</td>\n",
              "      <td>rosiebarton suggest agre canadian women trust ...</td>\n",
              "    </tr>\n",
              "    <tr>\n",
              "      <th>1</th>\n",
              "      <td>Positive</td>\n",
              "      <td>NaN</td>\n",
              "      <td>b\"#AllWomanSpacewalk it's real!\\n@Space_Statio...</td>\n",
              "      <td>allwomanspacewalk realnspacest netobicokenorth...</td>\n",
              "    </tr>\n",
              "    <tr>\n",
              "      <th>2</th>\n",
              "      <td>Negative</td>\n",
              "      <td>Economy</td>\n",
              "      <td>b\"#Brantford It's going to cost YOU $94 BILLIO...</td>\n",
              "      <td>brantford go cost 94 billion 4 year justin elx...</td>\n",
              "    </tr>\n",
              "    <tr>\n",
              "      <th>3</th>\n",
              "      <td>Positive</td>\n",
              "      <td>NaN</td>\n",
              "      <td>b\"#Canada #CanadaElection2019 #CanadaVotes \\n#...</td>\n",
              "      <td>canada canadaelection2019 canadavot nelxn43 nn...</td>\n",
              "    </tr>\n",
              "    <tr>\n",
              "      <th>4</th>\n",
              "      <td>Negative</td>\n",
              "      <td>Economy</td>\n",
              "      <td>b\"#Canada #taxpayers are sick &amp;amp; tired of h...</td>\n",
              "      <td>canada taxpay sick tire hard earn donat corpor...</td>\n",
              "    </tr>\n",
              "    <tr>\n",
              "      <th>...</th>\n",
              "      <td>...</td>\n",
              "      <td>...</td>\n",
              "      <td>...</td>\n",
              "      <td>...</td>\n",
              "    </tr>\n",
              "    <tr>\n",
              "      <th>2128</th>\n",
              "      <td>Negative</td>\n",
              "      <td>Scandal</td>\n",
              "      <td>b'You know he was doing a good enough job smea...</td>\n",
              "      <td>good job smear campaign andrewsch cdnpoli elxn...</td>\n",
              "    </tr>\n",
              "    <tr>\n",
              "      <th>2129</th>\n",
              "      <td>Negative</td>\n",
              "      <td>Scandal</td>\n",
              "      <td>b'You missed the comment. Deflecting the issue...</td>\n",
              "      <td>miss comment deflect issu answer best respons ...</td>\n",
              "    </tr>\n",
              "    <tr>\n",
              "      <th>2130</th>\n",
              "      <td>Positive</td>\n",
              "      <td>NaN</td>\n",
              "      <td>b'Your daily reminder:\\n@theJagmeetSingh endor...</td>\n",
              "      <td>daili remindernthejagmeetsingh endors strateg ...</td>\n",
              "    </tr>\n",
              "    <tr>\n",
              "      <th>2131</th>\n",
              "      <td>Negative</td>\n",
              "      <td>Women Reproductive right and Racism</td>\n",
              "      <td>b'Yup...not going to reopen the abortion debat...</td>\n",
              "      <td>yupnot go reopen abort debatexf0x9fx98x8fnelxn...</td>\n",
              "    </tr>\n",
              "    <tr>\n",
              "      <th>2132</th>\n",
              "      <td>Positive</td>\n",
              "      <td>NaN</td>\n",
              "      <td>b'Zing.\\n#NDP #elxn43 https://t.co/xo6Qe4jV3p'</td>\n",
              "      <td>zingnndp elxn43</td>\n",
              "    </tr>\n",
              "  </tbody>\n",
              "</table>\n",
              "<p>2133 rows × 4 columns</p>\n",
              "</div>"
            ],
            "text/plain": [
              "     sentiment  ...                                          cleantext\n",
              "0     Negative  ...  rosiebarton suggest agre canadian women trust ...\n",
              "1     Positive  ...  allwomanspacewalk realnspacest netobicokenorth...\n",
              "2     Negative  ...  brantford go cost 94 billion 4 year justin elx...\n",
              "3     Positive  ...  canada canadaelection2019 canadavot nelxn43 nn...\n",
              "4     Negative  ...  canada taxpay sick tire hard earn donat corpor...\n",
              "...        ...  ...                                                ...\n",
              "2128  Negative  ...  good job smear campaign andrewsch cdnpoli elxn...\n",
              "2129  Negative  ...  miss comment deflect issu answer best respons ...\n",
              "2130  Positive  ...  daili remindernthejagmeetsingh endors strateg ...\n",
              "2131  Negative  ...  yupnot go reopen abort debatexf0x9fx98x8fnelxn...\n",
              "2132  Positive  ...                                    zingnndp elxn43\n",
              "\n",
              "[2133 rows x 4 columns]"
            ]
          },
          "metadata": {
            "tags": []
          },
          "execution_count": 121
        }
      ]
    },
    {
      "cell_type": "code",
      "metadata": {
        "id": "qCJca-HJNnLm",
        "colab_type": "code",
        "colab": {}
      },
      "source": [
        "dfcount=pd.DataFrame(columns=['NPD','LIBER','GREEN','PPC','CPC','NONE'])\n",
        "dfcount['ybyb']=dfsel['sentiment']"
      ],
      "execution_count": 0,
      "outputs": []
    },
    {
      "cell_type": "code",
      "metadata": {
        "id": "BGcWUp6hYvKl",
        "colab_type": "code",
        "colab": {}
      },
      "source": [
        "dfcount=dfcount.fillna(0)\n",
        "dfcount=dfcount.iloc[:,:-1]"
      ],
      "execution_count": 0,
      "outputs": []
    },
    {
      "cell_type": "code",
      "metadata": {
        "id": "yWL0xukpbKa6",
        "colab_type": "code",
        "colab": {}
      },
      "source": [
        "\n",
        "for i in range(len(dfsel['cleantext'].tolist())):\n",
        "  a=dfsel['cleantext'].tolist()[i]\n",
        "  dfcount.iloc[i,0]=a.count(\"voteforchang\")+a.count(\"votendp\")+a.count(\"ndp\")+a.count(\"ndp\")+a.count(\"ndp\")+a.count(\"pro-ndp\")+a.count(\"ndp2019\")+a.count(\"jackharrisndp\")+a.count(\"jaedendt_ndp\")\n",
        "  dfcount.iloc[i,1]=a.count(\"voteliber\")+a.count(\"ivotedliber\")+a.count(\"voteliberalstopthecon\")+a.count(\"liber\")+a.count(\"liberal_parti\")+a.count(\"liberalparti\")+a.count(\"liber\")+a.count(\"liberal_parti\")+a.count(\"liberal_parti\")\n",
        "  dfcount.iloc[i,2]=a.count(\"votegreen\")+a.count(\"votekooy\")+a.count(\"votegreen2019\")\n",
        "  dfcount.iloc[i,3]=a.count(\"voteppc2019\")+a.count(\"voteforjo\")+a.count(\"voteppc\")+a.count(\"votetrudeauout2019\")+a.count(\"cpacvote2019\")+a.count(\"ppc\")+a.count(\"northppc\")+a.count(\"ppc2019\")+a.count(\"ppcdbn\")+a.count(\"ppc2019alltheway\")+a.count(\"ppctilden\")+a.count(\"ppc\")\n",
        "  dfcount.iloc[i,4]=a.count(\"votecpc\")+a.count(\"votecarol\")\n",
        "  #dfcount.iloc[i,5]=len(a)-dfcount.iloc[i,4]-dfcount.iloc[i,3]-dfcount.iloc[i,2]-dfcount.iloc[i,1]-dfcount.iloc[i,0]\n",
        "\n",
        " \n",
        "\n"
      ],
      "execution_count": 0,
      "outputs": []
    },
    {
      "cell_type": "code",
      "metadata": {
        "id": "W5api7HqeBbv",
        "colab_type": "code",
        "colab": {}
      },
      "source": [
        "dfcount['NONE']=1\n",
        "dfcount['class']=0\n",
        "\n",
        "dfcount['class']=dfcount.idxmax(axis=1)\n"
      ],
      "execution_count": 0,
      "outputs": []
    },
    {
      "cell_type": "code",
      "metadata": {
        "id": "3l_6dOaQhbsg",
        "colab_type": "code",
        "colab": {}
      },
      "source": [
        "dfcount1=dfcount.copy()"
      ],
      "execution_count": 0,
      "outputs": []
    },
    {
      "cell_type": "code",
      "metadata": {
        "id": "mTId06qSSxuC",
        "colab_type": "code",
        "outputId": "bbd7522d-f0cb-4097-ad04-9dbf052b3bdf",
        "colab": {
          "base_uri": "https://localhost:8080/",
          "height": 282
        }
      },
      "source": [
        "dfsel['class']=dfcount['class'].tolist()\n",
        "#NDP\n",
        "true_V=dfsel.loc[dfsel['class']=='NPD']['sentiment'].value_counts().tolist()\n",
        "label=dfsel.loc[dfsel['class']=='NPD']['sentiment'].value_counts().index.tolist()\n",
        "plt.pie(true_V,labels=label,autopct='%1.2f%%')\n",
        "plt.title('NDPtrue')\n"
      ],
      "execution_count": 0,
      "outputs": [
        {
          "output_type": "execute_result",
          "data": {
            "text/plain": [
              "Text(0.5, 1.0, 'NDPtrue')"
            ]
          },
          "metadata": {
            "tags": []
          },
          "execution_count": 128
        },
        {
          "output_type": "display_data",
          "data": {
            "image/png": "[encoded data removed]",
            "text/plain": [
              "<Figure size 432x288 with 1 Axes>"
            ]
          },
          "metadata": {
            "tags": []
          }
        }
      ]
    },
    {
      "cell_type": "code",
      "metadata": {
        "id": "jZbokPM-SxlV",
        "colab_type": "code",
        "outputId": "f3d4394a-d9f8-4ca4-9854-6e7f20586770",
        "colab": {
          "base_uri": "https://localhost:8080/",
          "height": 282
        }
      },
      "source": [
        "#LIBER\n",
        "true_V=dfsel.loc[dfsel['class']=='LIBER']['sentiment'].value_counts().tolist()\n",
        "label=dfsel.loc[dfsel['class']=='LIBER']['sentiment'].value_counts().index.tolist()\n",
        "plt.pie(true_V,labels=label,autopct='%1.2f%%')\n",
        "plt.title('LIBERtrue')\n"
      ],
      "execution_count": 0,
      "outputs": [
        {
          "output_type": "execute_result",
          "data": {
            "text/plain": [
              "Text(0.5, 1.0, 'LIBERtrue')"
            ]
          },
          "metadata": {
            "tags": []
          },
          "execution_count": 129
        },
        {
          "output_type": "display_data",
          "data": {
            "image/png": "[encoded data removed]",
            "text/plain": [
              "<Figure size 432x288 with 1 Axes>"
            ]
          },
          "metadata": {
            "tags": []
          }
        }
      ]
    },
    {
      "cell_type": "code",
      "metadata": {
        "id": "QmvZAa2fSxh2",
        "colab_type": "code",
        "outputId": "bb468432-a814-4e82-880a-8e6a1e0cbc7d",
        "colab": {
          "base_uri": "https://localhost:8080/",
          "height": 282
        }
      },
      "source": [
        "#PPC\n",
        "true_V=dfsel.loc[dfsel['class']=='PPC']['sentiment'].value_counts().tolist()\n",
        "label=dfsel.loc[dfsel['class']=='PPC']['sentiment'].value_counts().index.tolist()\n",
        "plt.pie(true_V,labels=label,autopct='%1.2f%%')\n",
        "plt.title('PPCtrue')\n"
      ],
      "execution_count": 0,
      "outputs": [
        {
          "output_type": "execute_result",
          "data": {
            "text/plain": [
              "Text(0.5, 1.0, 'PPCtrue')"
            ]
          },
          "metadata": {
            "tags": []
          },
          "execution_count": 130
        },
        {
          "output_type": "display_data",
          "data": {
            "image/png": "[encoded data removed]",
            "text/plain": [
              "<Figure size 432x288 with 1 Axes>"
            ]
          },
          "metadata": {
            "tags": []
          }
        }
      ]
    },
    {
      "cell_type": "code",
      "metadata": {
        "id": "1LZXtFflSxeA",
        "colab_type": "code",
        "outputId": "dad2628f-977a-4ce4-e313-3a05e46674aa",
        "colab": {
          "base_uri": "https://localhost:8080/",
          "height": 282
        }
      },
      "source": [
        "#NONE\n",
        "true_V=dfsel.loc[dfsel['class']=='NONE']['sentiment'].value_counts().tolist()\n",
        "label=dfsel.loc[dfsel['class']=='NONE']['sentiment'].value_counts().index.tolist()\n",
        "plt.pie(true_V,labels=label,autopct='%1.2f%%')\n",
        "plt.title('NONEtrue')"
      ],
      "execution_count": 0,
      "outputs": [
        {
          "output_type": "execute_result",
          "data": {
            "text/plain": [
              "Text(0.5, 1.0, 'NONEtrue')"
            ]
          },
          "metadata": {
            "tags": []
          },
          "execution_count": 131
        },
        {
          "output_type": "display_data",
          "data": {
            "image/png": "[encoded data removed]",
            "text/plain": [
              "<Figure size 432x288 with 1 Axes>"
            ]
          },
          "metadata": {
            "tags": []
          }
        }
      ]
    },
    {
      "cell_type": "markdown",
      "metadata": {
        "id": "pabIiH5xIcdp",
        "colab_type": "text"
      },
      "source": [
        "Classes like none and LIBER have positive around 55% while 45% negative, but for the NDP and PPC, there are 65%positive which means in public eyes, these 2 parties have a better reputation."
      ]
    },
    {
      "cell_type": "code",
      "metadata": {
        "id": "x1YOh47vhC6e",
        "colab_type": "code",
        "outputId": "e9245ca0-6298-4d08-a3ad-3495c373ca42",
        "colab": {
          "base_uri": "https://localhost:8080/",
          "height": 223
        }
      },
      "source": [
        "dfcount=pd.DataFrame(dfcount['class'].value_counts())\n",
        "dfcount"
      ],
      "execution_count": 0,
      "outputs": [
        {
          "output_type": "execute_result",
          "data": {
            "text/html": [
              "<div>\n",
              "<style scoped>\n",
              "    .dataframe tbody tr th:only-of-type {\n",
              "        vertical-align: middle;\n",
              "    }\n",
              "\n",
              "    .dataframe tbody tr th {\n",
              "        vertical-align: top;\n",
              "    }\n",
              "\n",
              "    .dataframe thead th {\n",
              "        text-align: right;\n",
              "    }\n",
              "</style>\n",
              "<table border=\"1\" class=\"dataframe\">\n",
              "  <thead>\n",
              "    <tr style=\"text-align: right;\">\n",
              "      <th></th>\n",
              "      <th>class</th>\n",
              "    </tr>\n",
              "  </thead>\n",
              "  <tbody>\n",
              "    <tr>\n",
              "      <th>NONE</th>\n",
              "      <td>1617</td>\n",
              "    </tr>\n",
              "    <tr>\n",
              "      <th>LIBER</th>\n",
              "      <td>201</td>\n",
              "    </tr>\n",
              "    <tr>\n",
              "      <th>NPD</th>\n",
              "      <td>192</td>\n",
              "    </tr>\n",
              "    <tr>\n",
              "      <th>PPC</th>\n",
              "      <td>115</td>\n",
              "    </tr>\n",
              "    <tr>\n",
              "      <th>GREEN</th>\n",
              "      <td>6</td>\n",
              "    </tr>\n",
              "    <tr>\n",
              "      <th>CPC</th>\n",
              "      <td>2</td>\n",
              "    </tr>\n",
              "  </tbody>\n",
              "</table>\n",
              "</div>"
            ],
            "text/plain": [
              "       class\n",
              "NONE    1617\n",
              "LIBER    201\n",
              "NPD      192\n",
              "PPC      115\n",
              "GREEN      6\n",
              "CPC        2"
            ]
          },
          "metadata": {
            "tags": []
          },
          "execution_count": 132
        }
      ]
    },
    {
      "cell_type": "code",
      "metadata": {
        "id": "OVYRT6JZp5F-",
        "colab_type": "code",
        "outputId": "d03d75a3-71d4-4c37-f151-7cecb85ce29c",
        "colab": {
          "base_uri": "https://localhost:8080/",
          "height": 313
        }
      },
      "source": [
        "plt.bar(dfcount.index,dfcount['class'])\n",
        "plt.title('number of tweet for each party')\n",
        "plt.xlabel(\"party\")\n",
        "plt.ylabel(\"number\")"
      ],
      "execution_count": 0,
      "outputs": [
        {
          "output_type": "execute_result",
          "data": {
            "text/plain": [
              "Text(0, 0.5, 'number')"
            ]
          },
          "metadata": {
            "tags": []
          },
          "execution_count": 133
        },
        {
          "output_type": "display_data",
          "data": {
            "image/png": "[encoded data removed]",
            "text/plain": [
              "<Figure size 432x288 with 1 Axes>"
            ]
          },
          "metadata": {
            "tags": []
          }
        }
      ]
    },
    {
      "cell_type": "markdown",
      "metadata": {
        "id": "DvYqavUDqDbf",
        "colab_type": "text"
      },
      "source": [
        "\"NONE\" is dominating because most of the tweet is like \"#vote for animal\"\"student vote \" which is not exactly refer to political party.\n",
        "so we remove the \"none cals and take a closer look\""
      ]
    },
    {
      "cell_type": "code",
      "metadata": {
        "id": "diDUDcz4mM3k",
        "colab_type": "code",
        "outputId": "1c6493b4-b2ba-4c81-afe5-9d2fca49db24",
        "colab": {
          "base_uri": "https://localhost:8080/",
          "height": 313
        }
      },
      "source": [
        "plt.bar(dfcount.index.tolist()[1:],dfcount['class'].tolist()[1:])\n",
        "plt.title('number of tweet for each party')\n",
        "plt.xlabel(\"party\")\n",
        "plt.ylabel(\"number\")"
      ],
      "execution_count": 0,
      "outputs": [
        {
          "output_type": "execute_result",
          "data": {
            "text/plain": [
              "Text(0, 0.5, 'number')"
            ]
          },
          "metadata": {
            "tags": []
          },
          "execution_count": 134
        },
        {
          "output_type": "display_data",
          "data": {
            "image/png": "[encoded data removed]",
            "text/plain": [
              "<Figure size 432x288 with 1 Axes>"
            ]
          },
          "metadata": {
            "tags": []
          }
        }
      ]
    },
    {
      "cell_type": "markdown",
      "metadata": {
        "id": "ZdH4ifXNNm2N",
        "colab_type": "text"
      },
      "source": [
        "as we can see in the fig, the bigger the party the more tweet about it. like NDP abd LIBER, the tweet about them is 2 times than others."
      ]
    },
    {
      "cell_type": "code",
      "metadata": {
        "id": "y4D0_KOwtZzH",
        "colab_type": "code",
        "colab": {}
      },
      "source": [
        "dfsencount=pd.DataFrame()"
      ],
      "execution_count": 0,
      "outputs": []
    },
    {
      "cell_type": "code",
      "metadata": {
        "id": "sX9xjrMFrUBN",
        "colab_type": "code",
        "colab": {}
      },
      "source": [
        "lenlist=[]\n",
        "a=dfsen['cleantext'].tolist()\n",
        "\n",
        "for i in range(len(a)):\n",
        "  lenlist.append(len(str(a[i]).split(' ')))"
      ],
      "execution_count": 0,
      "outputs": []
    },
    {
      "cell_type": "code",
      "metadata": {
        "id": "fGE02OwByB20",
        "colab_type": "code",
        "outputId": "91ad6f8d-9928-4743-dd70-8c35394805d0",
        "colab": {
          "base_uri": "https://localhost:8080/",
          "height": 399
        }
      },
      "source": [
        "dfsencount['len']=lenlist\n",
        "dfsencount['target']=dfsen['sentiment']\n",
        "dfsencount"
      ],
      "execution_count": 0,
      "outputs": [
        {
          "output_type": "execute_result",
          "data": {
            "text/html": [
              "<div>\n",
              "<style scoped>\n",
              "    .dataframe tbody tr th:only-of-type {\n",
              "        vertical-align: middle;\n",
              "    }\n",
              "\n",
              "    .dataframe tbody tr th {\n",
              "        vertical-align: top;\n",
              "    }\n",
              "\n",
              "    .dataframe thead th {\n",
              "        text-align: right;\n",
              "    }\n",
              "</style>\n",
              "<table border=\"1\" class=\"dataframe\">\n",
              "  <thead>\n",
              "    <tr style=\"text-align: right;\">\n",
              "      <th></th>\n",
              "      <th>len</th>\n",
              "      <th>target</th>\n",
              "    </tr>\n",
              "  </thead>\n",
              "  <tbody>\n",
              "    <tr>\n",
              "      <th>0</th>\n",
              "      <td>8</td>\n",
              "      <td>Positive</td>\n",
              "    </tr>\n",
              "    <tr>\n",
              "      <th>1</th>\n",
              "      <td>6</td>\n",
              "      <td>Negative</td>\n",
              "    </tr>\n",
              "    <tr>\n",
              "      <th>2</th>\n",
              "      <td>2</td>\n",
              "      <td>Positive</td>\n",
              "    </tr>\n",
              "    <tr>\n",
              "      <th>3</th>\n",
              "      <td>7</td>\n",
              "      <td>Positive</td>\n",
              "    </tr>\n",
              "    <tr>\n",
              "      <th>4</th>\n",
              "      <td>4</td>\n",
              "      <td>Positive</td>\n",
              "    </tr>\n",
              "    <tr>\n",
              "      <th>...</th>\n",
              "      <td>...</td>\n",
              "      <td>...</td>\n",
              "    </tr>\n",
              "    <tr>\n",
              "      <th>133792</th>\n",
              "      <td>4</td>\n",
              "      <td>Negative</td>\n",
              "    </tr>\n",
              "    <tr>\n",
              "      <th>133793</th>\n",
              "      <td>4</td>\n",
              "      <td>Negative</td>\n",
              "    </tr>\n",
              "    <tr>\n",
              "      <th>133794</th>\n",
              "      <td>4</td>\n",
              "      <td>Negative</td>\n",
              "    </tr>\n",
              "    <tr>\n",
              "      <th>133795</th>\n",
              "      <td>4</td>\n",
              "      <td>Negative</td>\n",
              "    </tr>\n",
              "    <tr>\n",
              "      <th>133796</th>\n",
              "      <td>3</td>\n",
              "      <td>Positive</td>\n",
              "    </tr>\n",
              "  </tbody>\n",
              "</table>\n",
              "<p>133797 rows × 2 columns</p>\n",
              "</div>"
            ],
            "text/plain": [
              "        len    target\n",
              "0         8  Positive\n",
              "1         6  Negative\n",
              "2         2  Positive\n",
              "3         7  Positive\n",
              "4         4  Positive\n",
              "...     ...       ...\n",
              "133792    4  Negative\n",
              "133793    4  Negative\n",
              "133794    4  Negative\n",
              "133795    4  Negative\n",
              "133796    3  Positive\n",
              "\n",
              "[133797 rows x 2 columns]"
            ]
          },
          "metadata": {
            "tags": []
          },
          "execution_count": 137
        }
      ]
    },
    {
      "cell_type": "code",
      "metadata": {
        "id": "hfjQz1tOzEgo",
        "colab_type": "code",
        "outputId": "6509ac65-ecff-4826-e9c2-fe85ba237509",
        "colab": {
          "base_uri": "https://localhost:8080/",
          "height": 313
        }
      },
      "source": [
        "df1=pd.DataFrame((dfsencount.loc[dfsencount['target']=='Positive'])['len'].value_counts())\n",
        "plt.bar(df1.index.tolist(),df1['len'])\n",
        "plt.title('length for positive')\n",
        "plt.xlabel(\"len\")\n",
        "plt.ylabel(\"number\")"
      ],
      "execution_count": 0,
      "outputs": [
        {
          "output_type": "execute_result",
          "data": {
            "text/plain": [
              "Text(0, 0.5, 'number')"
            ]
          },
          "metadata": {
            "tags": []
          },
          "execution_count": 138
        },
        {
          "output_type": "display_data",
          "data": {
            "image/png": "[encoded data removed]",
            "text/plain": [
              "<Figure size 432x288 with 1 Axes>"
            ]
          },
          "metadata": {
            "tags": []
          }
        }
      ]
    },
    {
      "cell_type": "code",
      "metadata": {
        "id": "Tx94LOk4zEVy",
        "colab_type": "code",
        "outputId": "8852aafa-c36c-4e18-888b-93267c7e2ca4",
        "colab": {
          "base_uri": "https://localhost:8080/",
          "height": 313
        }
      },
      "source": [
        "df2=pd.DataFrame((dfsencount.loc[dfsencount['target']=='Negative'])['len'].value_counts())\n",
        "plt.bar(df2.index.tolist(),df2['len'])\n",
        "plt.title('length for negative')\n",
        "plt.xlabel(\"len\")\n",
        "plt.ylabel(\"number\")"
      ],
      "execution_count": 0,
      "outputs": [
        {
          "output_type": "execute_result",
          "data": {
            "text/plain": [
              "Text(0, 0.5, 'number')"
            ]
          },
          "metadata": {
            "tags": []
          },
          "execution_count": 139
        },
        {
          "output_type": "display_data",
          "data": {
            "image/png": "[encoded data removed]",
            "text/plain": [
              "<Figure size 432x288 with 1 Axes>"
            ]
          },
          "metadata": {
            "tags": []
          }
        }
      ]
    },
    {
      "cell_type": "code",
      "metadata": {
        "id": "32eUNTVgUCw6",
        "colab_type": "code",
        "outputId": "2da19ddf-fca0-4f0b-b092-7438a413214d",
        "colab": {
          "base_uri": "https://localhost:8080/",
          "height": 313
        }
      },
      "source": [
        "df3=pd.DataFrame((dfsencount.loc[dfsencount['target']=='Neutral'])['len'].value_counts())\n",
        "plt.bar(df3.index.tolist(),df3['len'])\n",
        "plt.title('length for Neutral')\n",
        "plt.xlabel(\"len\")\n",
        "plt.ylabel(\"number\")"
      ],
      "execution_count": 0,
      "outputs": [
        {
          "output_type": "execute_result",
          "data": {
            "text/plain": [
              "Text(0, 0.5, 'number')"
            ]
          },
          "metadata": {
            "tags": []
          },
          "execution_count": 140
        },
        {
          "output_type": "display_data",
          "data": {
            "image/png": "[encoded data removed]",
            "text/plain": [
              "<Figure size 432x288 with 1 Axes>"
            ]
          },
          "metadata": {
            "tags": []
          }
        }
      ]
    },
    {
      "cell_type": "markdown",
      "metadata": {
        "id": "JZ3vlnDLVQ9a",
        "colab_type": "text"
      },
      "source": [
        "as we can see above, the distribution of negetive and postive tweets' lenth is the same. So length does not affect the nagetive or positive."
      ]
    },
    {
      "cell_type": "markdown",
      "metadata": {
        "id": "--3GQA6pzZE2",
        "colab_type": "text"
      },
      "source": [
        "##explore for word cloud "
      ]
    },
    {
      "cell_type": "code",
      "metadata": {
        "id": "g2UTbk3e4a5X",
        "colab_type": "code",
        "colab": {}
      },
      "source": [
        "listforselcloud = [y for x in listforselcloud for y in x]\n"
      ],
      "execution_count": 0,
      "outputs": []
    },
    {
      "cell_type": "code",
      "metadata": {
        "id": "Uxred1fU4-_Z",
        "colab_type": "code",
        "colab": {}
      },
      "source": [
        "joining=\" \"\n",
        "listforselcloud=joining.join(listforselcloud)\n"
      ],
      "execution_count": 0,
      "outputs": []
    },
    {
      "cell_type": "code",
      "metadata": {
        "id": "Yz252VvyzZjK",
        "colab_type": "code",
        "outputId": "d9d69e4b-16d6-4aae-f457-f958b6e84436",
        "colab": {
          "base_uri": "https://localhost:8080/",
          "height": 214
        }
      },
      "source": [
        "wordcloud = WordCloud(background_color=\"white\",width=2000, height=1000, margin=2).generate(listforselcloud)\n",
        "\n",
        "plt.imshow(wordcloud)\n",
        "plt.title('key word for selection dataset')\n",
        "plt.axis(\"off\")\n",
        "plt.show()"
      ],
      "execution_count": 0,
      "outputs": [
        {
          "output_type": "display_data",
          "data": {
            "image/png": "[encoded data removed]",
            "text/plain": [
              "<Figure size 432x288 with 1 Axes>"
            ]
          },
          "metadata": {
            "tags": []
          }
        }
      ]
    },
    {
      "cell_type": "code",
      "metadata": {
        "id": "YqaBhkyZ5yNf",
        "colab_type": "code",
        "colab": {}
      },
      "source": [
        "listforsencloud = [y for x in listforsencloud for y in x]\n",
        "joining=\" \"\n",
        "listforsencloud=joining.join(listforsencloud)\n"
      ],
      "execution_count": 0,
      "outputs": []
    },
    {
      "cell_type": "code",
      "metadata": {
        "id": "LRfCDocWz0vr",
        "colab_type": "code",
        "outputId": "7d90aa30-9144-45c2-f008-362d40be57ad",
        "colab": {
          "base_uri": "https://localhost:8080/",
          "height": 214
        }
      },
      "source": [
        "\n",
        "wordcloud = WordCloud(background_color=\"white\",width=2000, height=1000, margin=2).generate(listforsencloud)\n",
        "plt.title('key word for sentiment dataset')\n",
        "plt.imshow(wordcloud)\n",
        "plt.axis(\"off\")\n",
        "plt.show()\n",
        "\n"
      ],
      "execution_count": 0,
      "outputs": [
        {
          "output_type": "display_data",
          "data": {
            "image/png": "[encoded data removed]",
            "text/plain": [
              "<Figure size 432x288 with 1 Axes>"
            ]
          },
          "metadata": {
            "tags": []
          }
        }
      ]
    },
    {
      "cell_type": "markdown",
      "metadata": {
        "id": "yXc0wKDWRIGw",
        "colab_type": "text"
      },
      "source": [
        "# WF modeling"
      ]
    },
    {
      "cell_type": "code",
      "metadata": {
        "id": "TuShaKI0ZV0E",
        "colab_type": "code",
        "colab": {}
      },
      "source": [
        ""
      ],
      "execution_count": 0,
      "outputs": []
    },
    {
      "cell_type": "code",
      "metadata": {
        "id": "2WEzBFsfVrR1",
        "colab_type": "code",
        "colab": {}
      },
      "source": [
        "vectorizer = CountVectorizer()\n",
        "array_WF = vectorizer.fit_transform(dfsen['cleantext']).toarray()\n",
        "dfsentiment=pd.DataFrame(array_WF)\n",
        "dfsentiment['target']=dfsen['sentiment'].tolist()"
      ],
      "execution_count": 0,
      "outputs": []
    },
    {
      "cell_type": "markdown",
      "metadata": {
        "id": "n0vA3ceRcArf",
        "colab_type": "text"
      },
      "source": [
        "there is too much data point in the set in order to run the code without any crash and training the model with CV we choose 10000 data points to represents all the data set. This process will cause some noise to the whole model because we just choose 10% information to train the data. However due to the extermely large datapoint, 10000 can contains the information we want to train the model, we will see the result of these model, if the acc is lower than 50 we will increase the amount of sample we choose to train the model."
      ]
    },
    {
      "cell_type": "code",
      "metadata": {
        "id": "pNc0CW9sW_16",
        "colab_type": "code",
        "colab": {}
      },
      "source": [
        "dftrain=dfsentiment.sample(10000)\n",
        "#dftrain=dfsentiment.sample(20000)\n",
        "#dftrain=dfsentiment.sample(50000)"
      ],
      "execution_count": 0,
      "outputs": []
    },
    {
      "cell_type": "code",
      "metadata": {
        "id": "RyOyhg-ZRT-J",
        "colab_type": "code",
        "colab": {}
      },
      "source": [
        "X_train , X_test, y_train, y_test = train_test_split(dftrain.iloc[:,:-1], dftrain.iloc[:,-1], test_size=0.3, random_state=0)\n"
      ],
      "execution_count": 0,
      "outputs": []
    },
    {
      "cell_type": "markdown",
      "metadata": {
        "id": "lySJE4d2TS0k",
        "colab_type": "text"
      },
      "source": [
        "knn"
      ]
    },
    {
      "cell_type": "markdown",
      "metadata": {
        "id": "M_SfcJR5TR3T",
        "colab_type": "text"
      },
      "source": [
        "for knn and SVM we use a sub set due to the low running speed and for other algrithm we choose to use cross validation to find the best hyprameter."
      ]
    },
    {
      "cell_type": "code",
      "metadata": {
        "id": "4piPu8FY1okr",
        "colab_type": "code",
        "outputId": "13c874e0-9c07-4ff7-c7ef-30c22f301a0d",
        "colab": {
          "base_uri": "https://localhost:8080/",
          "height": 34
        }
      },
      "source": [
        "knn=neighbors.KNeighborsClassifier(n_neighbors=100)\n",
        "knn.fit(X_train,y_train)\n",
        "accuracy=accuracy_score(y_train,knn.predict(X_train))\n",
        "accuracy"
      ],
      "execution_count": 0,
      "outputs": [
        {
          "output_type": "execute_result",
          "data": {
            "text/plain": [
              "0.4835714285714286"
            ]
          },
          "metadata": {
            "tags": []
          },
          "execution_count": 58
        }
      ]
    },
    {
      "cell_type": "code",
      "metadata": {
        "id": "UWA6GZfXRtNz",
        "colab_type": "code",
        "outputId": "07df4899-0f41-41fd-a965-478d5403ab81",
        "colab": {
          "base_uri": "https://localhost:8080/",
          "height": 433
        }
      },
      "source": [
        "from sklearn.model_selection import cross_val_score\n",
        "accuracylist=[]\n",
        "for i in [1,10,20,50,100,200,300,500,1000]:\n",
        "  knn=neighbors.KNeighborsClassifier(n_neighbors=i)\n",
        "  scores1=cross_val_score(knn,X_train,y_train,cv=10)\n",
        "  accuracy=scores1.mean()\n",
        "  accuracylist.append(accuracy)\n",
        "  print(i)\n",
        "ilist=[1,10,20,50,100,200,300,500,1000]\n",
        "plt.plot(ilist,accuracylist)"
      ],
      "execution_count": 0,
      "outputs": [
        {
          "output_type": "stream",
          "text": [
            "1\n",
            "10\n",
            "20\n",
            "50\n",
            "100\n",
            "200\n",
            "300\n",
            "500\n",
            "1000\n"
          ],
          "name": "stdout"
        },
        {
          "output_type": "execute_result",
          "data": {
            "text/plain": [
              "[<matplotlib.lines.Line2D at 0x7ffad968bf60>]"
            ]
          },
          "metadata": {
            "tags": []
          },
          "execution_count": 61
        },
        {
          "output_type": "display_data",
          "data": {
            "image/png": "[encoded data removed]",
            "text/plain": [
              "<Figure size 432x288 with 1 Axes>"
            ]
          },
          "metadata": {
            "tags": []
          }
        }
      ]
    },
    {
      "cell_type": "code",
      "metadata": {
        "id": "DkKYT_-68JpU",
        "colab_type": "code",
        "outputId": "f6992ed7-ff05-4082-83e0-5c274a1e6c93",
        "colab": {
          "base_uri": "https://localhost:8080/",
          "height": 168
        }
      },
      "source": [
        "i\n",
        "accuracylist"
      ],
      "execution_count": 0,
      "outputs": [
        {
          "output_type": "execute_result",
          "data": {
            "text/plain": [
              "[0.5648571428571428,\n",
              " 0.5827142857142856,\n",
              " 0.5615714285714286,\n",
              " 0.5125714285714287,\n",
              " 0.4822857142857142,\n",
              " 0.4681428571428571,\n",
              " 0.46342857142857136,\n",
              " 0.46385714285714286,\n",
              " 0.4824285714285714]"
            ]
          },
          "metadata": {
            "tags": []
          },
          "execution_count": 62
        }
      ]
    },
    {
      "cell_type": "code",
      "metadata": {
        "id": "2W3Erp8Reyno",
        "colab_type": "code",
        "outputId": "031dfa0e-3abc-4f42-a243-88a5be357370",
        "colab": {
          "base_uri": "https://localhost:8080/",
          "height": 34
        }
      },
      "source": [
        "knn=neighbors.KNeighborsClassifier(n_neighbors=10)\n",
        "knn.fit(X_test,y_test)\n",
        "accuracy=accuracy_score(y_test,knn.predict(X_test))\n",
        "accuracy"
      ],
      "execution_count": 0,
      "outputs": [
        {
          "output_type": "execute_result",
          "data": {
            "text/plain": [
              "0.6556666666666666"
            ]
          },
          "metadata": {
            "tags": []
          },
          "execution_count": 63
        }
      ]
    },
    {
      "cell_type": "markdown",
      "metadata": {
        "id": "7-D0ds5zXfeK",
        "colab_type": "text"
      },
      "source": [
        "logistic regression"
      ]
    },
    {
      "cell_type": "code",
      "metadata": {
        "id": "M0st7IvRTPhE",
        "colab_type": "code",
        "colab": {}
      },
      "source": [
        "from sklearn.linear_model import LogisticRegression\n",
        "clf = LogisticRegression(max_iter=1000)\n",
        "clf.fit(X_train, y_train)\n",
        "accuracy=accuracy_score(y_train,clf.predict(X_train))\n",
        "#it is overfitting but we just wanna see it can run or not "
      ],
      "execution_count": 0,
      "outputs": []
    },
    {
      "cell_type": "code",
      "metadata": {
        "id": "0YjSRUqap5ZL",
        "colab_type": "code",
        "outputId": "46df338d-c31e-4ee2-e6d9-2646f7f514da",
        "colab": {
          "base_uri": "https://localhost:8080/",
          "height": 34
        }
      },
      "source": [
        "accuracy"
      ],
      "execution_count": 0,
      "outputs": [
        {
          "output_type": "execute_result",
          "data": {
            "text/plain": [
              "0.8181428571428572"
            ]
          },
          "metadata": {
            "tags": []
          },
          "execution_count": 65
        }
      ]
    },
    {
      "cell_type": "code",
      "metadata": {
        "id": "YhczUIEPhlD3",
        "colab_type": "code",
        "outputId": "44a63926-e673-4400-9d3d-778dbfa9de05",
        "colab": {
          "base_uri": "https://localhost:8080/",
          "height": 353
        }
      },
      "source": [
        "from sklearn.model_selection import cross_val_score\n",
        "\n",
        "solverlist=['liblinear','lbfgs','newton-cg','sag']\n",
        "clist=[0.01,0.05,0.1,0.5,1]\n",
        "sollist=[]\n",
        "penlist=[]\n",
        "accuracylist=[]\n",
        "for m in solverlist:\n",
        "  for n in clist:\n",
        "    clf = LogisticRegression(C=n,solver=m,max_iter=1000)\n",
        "    scores1=cross_val_score(clf,X_train,y_train,cv=5)\n",
        "    accuracy=scores1.mean()\n",
        "    sollist.append(m)\n",
        "    penlist.append(n)\n",
        "    accuracylist.append(accuracy)\n",
        "    print(m,n)"
      ],
      "execution_count": 0,
      "outputs": [
        {
          "output_type": "stream",
          "text": [
            "liblinear 0.01\n",
            "liblinear 0.05\n",
            "liblinear 0.1\n",
            "liblinear 0.5\n",
            "liblinear 1\n",
            "lbfgs 0.01\n",
            "lbfgs 0.05\n",
            "lbfgs 0.1\n",
            "lbfgs 0.5\n",
            "lbfgs 1\n",
            "newton-cg 0.01\n",
            "newton-cg 0.05\n",
            "newton-cg 0.1\n",
            "newton-cg 0.5\n",
            "newton-cg 1\n",
            "sag 0.01\n",
            "sag 0.05\n",
            "sag 0.1\n",
            "sag 0.5\n",
            "sag 1\n"
          ],
          "name": "stdout"
        }
      ]
    },
    {
      "cell_type": "code",
      "metadata": {
        "id": "OM0kvWKLwvVC",
        "colab_type": "code",
        "outputId": "a2cc8687-44ec-41bf-9d74-2315b4ca14fd",
        "colab": {
          "base_uri": "https://localhost:8080/",
          "height": 34
        }
      },
      "source": [
        "accuracylist.index(max(accuracylist))"
      ],
      "execution_count": 0,
      "outputs": [
        {
          "output_type": "execute_result",
          "data": {
            "text/plain": [
              "7"
            ]
          },
          "metadata": {
            "tags": []
          },
          "execution_count": 67
        }
      ]
    },
    {
      "cell_type": "code",
      "metadata": {
        "id": "CxJ9UT2XqXjo",
        "colab_type": "code",
        "outputId": "6e410c67-bb57-4c03-854f-56fd58756f34",
        "colab": {
          "base_uri": "https://localhost:8080/",
          "height": 67
        }
      },
      "source": [
        "print(max(accuracylist))\n",
        "print(penlist[accuracylist.index(max(accuracylist))])\n",
        "print(sollist[accuracylist.index(max(accuracylist))])"
      ],
      "execution_count": 0,
      "outputs": [
        {
          "output_type": "stream",
          "text": [
            "0.6861428571428572\n",
            "0.1\n",
            "lbfgs\n"
          ],
          "name": "stdout"
        }
      ]
    },
    {
      "cell_type": "code",
      "metadata": {
        "id": "xb1moeWNe9Bb",
        "colab_type": "code",
        "outputId": "fad95732-d85e-41ad-add5-29ed456c1a44",
        "colab": {
          "base_uri": "https://localhost:8080/",
          "height": 34
        }
      },
      "source": [
        "\n",
        "clf = LogisticRegression(C=0.1,solver='lbfgs',max_iter=1000)\n",
        "clf.fit(X_train, y_train)\n",
        "accuracy=accuracy_score(y_test,clf.predict(X_test))\n",
        "accuracy"
      ],
      "execution_count": 0,
      "outputs": [
        {
          "output_type": "execute_result",
          "data": {
            "text/plain": [
              "0.695"
            ]
          },
          "metadata": {
            "tags": []
          },
          "execution_count": 70
        }
      ]
    },
    {
      "cell_type": "markdown",
      "metadata": {
        "id": "eL3wIdnFZJeE",
        "colab_type": "text"
      },
      "source": [
        "naive byes"
      ]
    },
    {
      "cell_type": "code",
      "metadata": {
        "id": "QM855m1IZJI0",
        "colab_type": "code",
        "colab": {}
      },
      "source": [
        "from sklearn.naive_bayes import MultinomialNB\n"
      ],
      "execution_count": 0,
      "outputs": []
    },
    {
      "cell_type": "code",
      "metadata": {
        "id": "4nD0mBbImEIl",
        "colab_type": "code",
        "outputId": "e8d6d1c0-6598-4d4d-9d52-b8306894c943",
        "colab": {
          "base_uri": "https://localhost:8080/",
          "height": 101
        }
      },
      "source": [
        "accuracylist=[]\n",
        "for i in [1,10,20,50,100]:\n",
        "  clf = MultinomialNB(alpha=i/100)\n",
        "  scores1=cross_val_score(clf,X_train,y_train,cv=10)\n",
        "  accuracyscore=scores1.mean()\n",
        "  accuracylist.append(accuracyscore)\n",
        "  print(i)"
      ],
      "execution_count": 0,
      "outputs": [
        {
          "output_type": "stream",
          "text": [
            "1\n",
            "10\n",
            "20\n",
            "50\n",
            "100\n"
          ],
          "name": "stdout"
        }
      ]
    },
    {
      "cell_type": "code",
      "metadata": {
        "id": "KMmEVD4-2y88",
        "colab_type": "code",
        "outputId": "454301c5-2be7-47fb-aabd-ad1b28320ec9",
        "colab": {
          "base_uri": "https://localhost:8080/",
          "height": 34
        }
      },
      "source": [
        "accuracylist.index(max(accuracylist))"
      ],
      "execution_count": 0,
      "outputs": [
        {
          "output_type": "execute_result",
          "data": {
            "text/plain": [
              "4"
            ]
          },
          "metadata": {
            "tags": []
          },
          "execution_count": 73
        }
      ]
    },
    {
      "cell_type": "code",
      "metadata": {
        "id": "iVnzjft1ZPM9",
        "colab_type": "code",
        "outputId": "94070835-405a-464e-8700-749204aabd36",
        "colab": {
          "base_uri": "https://localhost:8080/",
          "height": 34
        }
      },
      "source": [
        "max(accuracylist)"
      ],
      "execution_count": 0,
      "outputs": [
        {
          "output_type": "execute_result",
          "data": {
            "text/plain": [
              "0.671142857142857"
            ]
          },
          "metadata": {
            "tags": []
          },
          "execution_count": 74
        }
      ]
    },
    {
      "cell_type": "code",
      "metadata": {
        "id": "74D7me6QfQ5i",
        "colab_type": "code",
        "outputId": "b0767e94-43ab-4719-f880-bd94a899f88d",
        "colab": {
          "base_uri": "https://localhost:8080/",
          "height": 34
        }
      },
      "source": [
        "clf = MultinomialNB(alpha=100/100)\n",
        "clf.fit(X_train, y_train)\n",
        "accuracy=accuracy_score(y_test,clf.predict(X_test))\n",
        "accuracy"
      ],
      "execution_count": 0,
      "outputs": [
        {
          "output_type": "execute_result",
          "data": {
            "text/plain": [
              "0.667"
            ]
          },
          "metadata": {
            "tags": []
          },
          "execution_count": 75
        }
      ]
    },
    {
      "cell_type": "markdown",
      "metadata": {
        "id": "BFRwCuLGnfyU",
        "colab_type": "text"
      },
      "source": [
        "svm"
      ]
    },
    {
      "cell_type": "code",
      "metadata": {
        "id": "xW9fN_2ZnfdS",
        "colab_type": "code",
        "outputId": "e8ae3af6-612e-477b-b97e-5f9f8761e50a",
        "colab": {
          "base_uri": "https://localhost:8080/",
          "height": 35
        }
      },
      "source": [
        "from sklearn.svm import SVC\n",
        "clf = SVC(gamma='auto')\n",
        "clf.fit(X_train, y_train)\n",
        "y_pred=clf.predict(X_train)\n",
        "accuracyscore=accuracy_score(y_pred,y_train)\n",
        "accuracyscore\n",
        "#it is overfitting but we just wanna see it can run or not "
      ],
      "execution_count": 0,
      "outputs": [
        {
          "output_type": "execute_result",
          "data": {
            "text/plain": [
              "0.5358571428571428"
            ]
          },
          "metadata": {
            "tags": []
          },
          "execution_count": 36
        }
      ]
    },
    {
      "cell_type": "code",
      "metadata": {
        "id": "0DGxTT5TqHrZ",
        "colab_type": "code",
        "outputId": "4fd81f09-58f1-4d7a-c97d-c53ea56eef02",
        "colab": {
          "base_uri": "https://localhost:8080/",
          "height": 390
        }
      },
      "source": [
        "from sklearn.model_selection import cross_val_score\n",
        "Clist=[1, 2, 4]\n",
        "gammalist=[0.125, 0.25, 0.5 ,1, 2, 4,'auto'] \n",
        "clist=[]\n",
        "accuracylist=[]\n",
        "gammmalist=[]\n",
        "for m in Clist:\n",
        "  for n in gammalist:\n",
        "    clf = SVC(gamma=n,C=m)\n",
        "    scores1=cross_val_score(clf,X_train,y_train,cv=10)\n",
        "    accuracyscore=scores1.mean()\n",
        "    accuracylist.append(accuracyscore)\n",
        "    clist.append(m)\n",
        "    gammmalist.append(n)\n",
        "    print(m,n)"
      ],
      "execution_count": 0,
      "outputs": [
        {
          "output_type": "stream",
          "text": [
            "1 0.125\n",
            "1 0.25\n",
            "1 0.5\n",
            "1 1\n",
            "1 2\n",
            "1 4\n",
            "1 auto\n",
            "2 0.125\n",
            "2 0.25\n",
            "2 0.5\n",
            "2 1\n",
            "2 2\n",
            "2 4\n",
            "2 auto\n",
            "4 0.125\n",
            "4 0.25\n",
            "4 0.5\n",
            "4 1\n",
            "4 2\n",
            "4 4\n",
            "4 auto\n"
          ],
          "name": "stdout"
        }
      ]
    },
    {
      "cell_type": "code",
      "metadata": {
        "id": "2lDlTAZzniLr",
        "colab_type": "code",
        "outputId": "09a6cccf-851c-4512-f84a-96f5f2eb0754",
        "colab": {
          "base_uri": "https://localhost:8080/",
          "height": 70
        }
      },
      "source": [
        "print(max(accuracylist))\n",
        "print(gammmalist[accuracylist.index(max(accuracylist))])\n",
        "print(clist[accuracylist.index(max(accuracylist))])"
      ],
      "execution_count": 0,
      "outputs": [
        {
          "output_type": "stream",
          "text": [
            "0.6891428571428573\n",
            "0.25\n",
            "1\n"
          ],
          "name": "stdout"
        }
      ]
    },
    {
      "cell_type": "code",
      "metadata": {
        "id": "kckqcWQNf0Bq",
        "colab_type": "code",
        "colab": {}
      },
      "source": [
        "from sklearn.svm import SVC\n",
        "clf = SVC(gamma=0.25,C=1)\n",
        "clf.fit(X_train, y_train)\n",
        "accuracy=accuracy_score(y_test,clf.predict(X_test))"
      ],
      "execution_count": 0,
      "outputs": []
    },
    {
      "cell_type": "code",
      "metadata": {
        "id": "fT5KQQ2b5y1l",
        "colab_type": "code",
        "outputId": "d5eb8ada-2587-4909-b6e7-bd5bd366b20e",
        "colab": {
          "base_uri": "https://localhost:8080/",
          "height": 35
        }
      },
      "source": [
        "accuracy"
      ],
      "execution_count": 0,
      "outputs": [
        {
          "output_type": "execute_result",
          "data": {
            "text/plain": [
              "0.6786666666666666"
            ]
          },
          "metadata": {
            "tags": []
          },
          "execution_count": 42
        }
      ]
    },
    {
      "cell_type": "markdown",
      "metadata": {
        "id": "OLv-Vt8YojM4",
        "colab_type": "text"
      },
      "source": [
        "desicion tree"
      ]
    },
    {
      "cell_type": "code",
      "metadata": {
        "id": "Lj0EOslroi5L",
        "colab_type": "code",
        "colab": {}
      },
      "source": [
        "from sklearn import tree\n",
        "clf = tree.DecisionTreeClassifier()\n",
        "clf.fit(X_train,y_train)\n",
        "y_pred=clf.predict(X_train)\n",
        "accuracyscore=accuracy_score(y_pred,y_train)"
      ],
      "execution_count": 0,
      "outputs": []
    },
    {
      "cell_type": "code",
      "metadata": {
        "id": "nVMQyhOEz_JC",
        "colab_type": "code",
        "outputId": "3436748c-74cf-41a6-eee9-0344d2ff983e",
        "colab": {
          "base_uri": "https://localhost:8080/",
          "height": 34
        }
      },
      "source": [
        "accuracyscore\n",
        "#of course it is overfitting"
      ],
      "execution_count": 0,
      "outputs": [
        {
          "output_type": "execute_result",
          "data": {
            "text/plain": [
              "0.9678571428571429"
            ]
          },
          "metadata": {
            "tags": []
          },
          "execution_count": 80
        }
      ]
    },
    {
      "cell_type": "code",
      "metadata": {
        "id": "I912x7GPrdWd",
        "colab_type": "code",
        "outputId": "28ce9023-d628-4885-87c5-2f5ff6ed2848",
        "colab": {
          "base_uri": "https://localhost:8080/",
          "height": 218
        }
      },
      "source": [
        "criterionlist=['gini','entropy']\n",
        "max_depthlist=[None,10,25,50,75,100]\n",
        "crilist=[]\n",
        "maxlist=[]\n",
        "accuracylist=[]\n",
        "for n in criterionlist:\n",
        "  for m in max_depthlist:\n",
        "    clf = tree.DecisionTreeClassifier(criterion=n,max_depth=m)\n",
        "    scores1=cross_val_score(clf,X_train,y_train,cv=10)\n",
        "    accuracyscore=scores1.mean()\n",
        "    crilist.append(n)\n",
        "    maxlist.append(m)\n",
        "    accuracylist.append(accuracyscore)\n",
        "    print(m,n)"
      ],
      "execution_count": 0,
      "outputs": [
        {
          "output_type": "stream",
          "text": [
            "None gini\n",
            "10 gini\n",
            "25 gini\n",
            "50 gini\n",
            "75 gini\n",
            "100 gini\n",
            "None entropy\n",
            "10 entropy\n",
            "25 entropy\n",
            "50 entropy\n",
            "75 entropy\n",
            "100 entropy\n"
          ],
          "name": "stdout"
        }
      ]
    },
    {
      "cell_type": "code",
      "metadata": {
        "id": "WQJBE9PJQC8L",
        "colab_type": "code",
        "outputId": "76aeba38-0130-4a95-fe87-77b193aa4833",
        "colab": {
          "base_uri": "https://localhost:8080/",
          "height": 50
        }
      },
      "source": [
        "print(max(accuracylist))\n",
        "accuracylist.index(max(accuracylist))"
      ],
      "execution_count": 0,
      "outputs": [
        {
          "output_type": "stream",
          "text": [
            "0.6302857142857141\n"
          ],
          "name": "stdout"
        },
        {
          "output_type": "execute_result",
          "data": {
            "text/plain": [
              "5"
            ]
          },
          "metadata": {
            "tags": []
          },
          "execution_count": 82
        }
      ]
    },
    {
      "cell_type": "code",
      "metadata": {
        "id": "zNYyYBLxf6g-",
        "colab_type": "code",
        "colab": {}
      },
      "source": [
        "clf = tree.DecisionTreeClassifier(criterion='entropy',max_depth=100)\n",
        "clf.fit(X_train,y_train)\n",
        "y_pred=clf.predict(X_test)\n",
        "accuracyscore=accuracy_score(y_pred,y_test)"
      ],
      "execution_count": 0,
      "outputs": []
    },
    {
      "cell_type": "code",
      "metadata": {
        "id": "eSltvmNNw0Ji",
        "colab_type": "code",
        "outputId": "82aa29f9-19db-4ae2-9cb3-1c36477b2f4c",
        "colab": {
          "base_uri": "https://localhost:8080/",
          "height": 34
        }
      },
      "source": [
        "accuracy"
      ],
      "execution_count": 0,
      "outputs": [
        {
          "output_type": "execute_result",
          "data": {
            "text/plain": [
              "0.667"
            ]
          },
          "metadata": {
            "tags": []
          },
          "execution_count": 84
        }
      ]
    },
    {
      "cell_type": "markdown",
      "metadata": {
        "id": "so6g7Ckxy_m2",
        "colab_type": "text"
      },
      "source": [
        "random forest"
      ]
    },
    {
      "cell_type": "code",
      "metadata": {
        "id": "Br9BmjqJy_Wh",
        "colab_type": "code",
        "outputId": "6c3885ca-14d4-4eb7-eb70-764d66ac1378",
        "colab": {
          "base_uri": "https://localhost:8080/",
          "height": 50
        }
      },
      "source": [
        "from sklearn.ensemble import RandomForestClassifier\n",
        "from sklearn.model_selection import GridSearchCV\n",
        "from sklearn import  metrics\n",
        "\n",
        "rf0 = RandomForestClassifier(oob_score=True, random_state=12)\n",
        "rf0.fit(X_train,y_train)\n",
        "print (rf0.oob_score_)\n",
        "y_pred = rf0.predict(X_train)\n",
        "accuracyscore=accuracy_score(y_pred,y_train)\n",
        "accuracyscore\n",
        "#it is overfitting but we just wanna see it can run or not "
      ],
      "execution_count": 0,
      "outputs": [
        {
          "output_type": "stream",
          "text": [
            "0.6612857142857143\n"
          ],
          "name": "stdout"
        },
        {
          "output_type": "execute_result",
          "data": {
            "text/plain": [
              "0.9678571428571429"
            ]
          },
          "metadata": {
            "tags": []
          },
          "execution_count": 86
        }
      ]
    },
    {
      "cell_type": "code",
      "metadata": {
        "id": "XH4op0aS0DGp",
        "colab_type": "code",
        "colab": {}
      },
      "source": [
        "depthlist=[10,20,30,40,50,60,70,80,90,100]\n",
        "estimatorslist=[25,50,75,100,125,150,200,300]\n",
        "accuracylist=[]\n",
        "for m in depthlist:\n",
        "  for n in estimatorslist:\n",
        "    rf0 = RandomForestClassifier(oob_score=True, random_state=12,max_depth=m,n_estimators=n)\n",
        "    scores1=cross_val_score(rf0,X_train,y_train,cv=10)\n",
        "    accuracyscore=scores1.mean()\n",
        "    accuracylist.append(accuracyscore)\n",
        "    print(m,n)"
      ],
      "execution_count": 0,
      "outputs": []
    },
    {
      "cell_type": "code",
      "metadata": {
        "id": "m2Nqp6DooB2N",
        "colab_type": "code",
        "outputId": "e40319b4-0df2-4ae0-aeb9-e16cfa79ed16",
        "colab": {
          "base_uri": "https://localhost:8080/",
          "height": 50
        }
      },
      "source": [
        "print(max(accuracylist))\n",
        "accuracylist.index(max(accuracylist))"
      ],
      "execution_count": 0,
      "outputs": [
        {
          "output_type": "stream",
          "text": [
            "0.6867142857142856\n"
          ],
          "name": "stdout"
        },
        {
          "output_type": "execute_result",
          "data": {
            "text/plain": [
              "47"
            ]
          },
          "metadata": {
            "tags": []
          },
          "execution_count": 88
        }
      ]
    },
    {
      "cell_type": "code",
      "metadata": {
        "id": "Nh8wRqbcgHQU",
        "colab_type": "code",
        "outputId": "b655a4d9-b9ef-47f9-fa73-372f72f50efd",
        "colab": {
          "base_uri": "https://localhost:8080/",
          "height": 50
        }
      },
      "source": [
        "\n",
        "rf0 = RandomForestClassifier(oob_score=True, random_state=12,max_depth=60,n_estimators=300)\n",
        "rf0.fit(X_train,y_train)\n",
        "print (rf0.oob_score_)\n",
        "y_pred = rf0.predict(X_test)\n",
        "accuracyscore=accuracy_score(y_pred,y_test)\n",
        "accuracyscore"
      ],
      "execution_count": 0,
      "outputs": [
        {
          "output_type": "stream",
          "text": [
            "0.6862857142857143\n"
          ],
          "name": "stdout"
        },
        {
          "output_type": "execute_result",
          "data": {
            "text/plain": [
              "0.6893333333333334"
            ]
          },
          "metadata": {
            "tags": []
          },
          "execution_count": 90
        }
      ]
    },
    {
      "cell_type": "markdown",
      "metadata": {
        "id": "npnvlA2n5hBz",
        "colab_type": "text"
      },
      "source": [
        "XGboost"
      ]
    },
    {
      "cell_type": "code",
      "metadata": {
        "id": "NY8z888E5gvi",
        "colab_type": "code",
        "outputId": "e1b7471b-328f-4de2-e87a-2176e6e2c802",
        "colab": {
          "base_uri": "https://localhost:8080/",
          "height": 35
        }
      },
      "source": [
        "from sklearn import metrics\n",
        "from  sklearn.datasets  import  make_hastie_10_2\n",
        "from xgboost.sklearn import XGBClassifier\n",
        "\n",
        "clf = XGBClassifier(learning_rate= 0.3,max_depth=6,n_estimators=100)\n",
        "clf.fit(X_train, y_train,eval_metric='auc',verbose=False)\n",
        "accuracyscore=accuracy_score(clf.predict(X_train),y_train)\n",
        "accuracyscore\n",
        "#of course it is overfitting\n"
      ],
      "execution_count": 0,
      "outputs": [
        {
          "output_type": "execute_result",
          "data": {
            "text/plain": [
              "0.8385714285714285"
            ]
          },
          "metadata": {
            "tags": []
          },
          "execution_count": 42
        }
      ]
    },
    {
      "cell_type": "code",
      "metadata": {
        "id": "OF1Haag68YDR",
        "colab_type": "code",
        "outputId": "622a3d27-4fe1-4c64-fca5-331e72ef2f86",
        "colab": {
          "base_uri": "https://localhost:8080/",
          "height": 230
        }
      },
      "source": [
        "LRlist=[0.3,0.5,0.7]\n",
        "depthlist=[3,5,7,10]\n",
        "pralist=[]\n",
        "accuracylist=[]\n",
        "for a in LRlist:\n",
        "  for b in depthlist:\n",
        "   clf = XGBClassifier(learning_rate= a,max_depth=b,n_estimators=100)\n",
        "   scores1=cross_val_score(clf,X_train,y_train,cv=10)\n",
        "   accuracyscore=scores1.mean()\n",
        "   pralist.append(a)\n",
        "   pralist.append(b)  \n",
        "   accuracylist.append(accuracyscore)\n",
        "   print(a,b)"
      ],
      "execution_count": 0,
      "outputs": [
        {
          "output_type": "stream",
          "text": [
            "0.3 3\n",
            "0.3 5\n",
            "0.3 7\n",
            "0.3 10\n",
            "0.5 3\n",
            "0.5 5\n",
            "0.5 7\n",
            "0.5 10\n",
            "0.7 3\n",
            "0.7 5\n",
            "0.7 7\n",
            "0.7 10\n"
          ],
          "name": "stdout"
        }
      ]
    },
    {
      "cell_type": "code",
      "metadata": {
        "id": "ozN3oOcR8omM",
        "colab_type": "code",
        "outputId": "e0f68c62-5416-41da-f3f9-4f50214d82c0",
        "colab": {
          "base_uri": "https://localhost:8080/",
          "height": 52
        }
      },
      "source": [
        "print(max(accuracylist))\n",
        "accuracylist.index(max(accuracylist))"
      ],
      "execution_count": 0,
      "outputs": [
        {
          "output_type": "stream",
          "text": [
            "0.6171428571428571\n"
          ],
          "name": "stdout"
        },
        {
          "output_type": "execute_result",
          "data": {
            "text/plain": [
              "11"
            ]
          },
          "metadata": {
            "tags": []
          },
          "execution_count": 47
        }
      ]
    },
    {
      "cell_type": "code",
      "metadata": {
        "id": "vB8WCq8v-j-_",
        "colab_type": "code",
        "outputId": "1a58cc33-f46c-4eaa-8582-60bac77f2509",
        "colab": {
          "base_uri": "https://localhost:8080/",
          "height": 35
        }
      },
      "source": [
        "clf = XGBClassifier(learning_rate= 0.7,max_depth=10,n_estimators=100)\n",
        "clf.fit(X_train, y_train,eval_metric='auc',verbose=False)\n",
        "accuracyscore=accuracy_score(clf.predict(X_test),y_test)\n",
        "accuracyscore"
      ],
      "execution_count": 0,
      "outputs": [
        {
          "output_type": "execute_result",
          "data": {
            "text/plain": [
              "0.57"
            ]
          },
          "metadata": {
            "tags": []
          },
          "execution_count": 49
        }
      ]
    },
    {
      "cell_type": "markdown",
      "metadata": {
        "id": "KYIpgTB3TA2T",
        "colab_type": "text"
      },
      "source": [
        "#TF-IDF modeling"
      ]
    },
    {
      "cell_type": "code",
      "metadata": {
        "id": "cxOsGigwTPbS",
        "colab_type": "code",
        "colab": {}
      },
      "source": [
        "vectorizer3 = TfidfVectorizer(use_idf=True, smooth_idf=True, norm=None)\n",
        "array_TFIDF = vectorizer3.fit_transform(dfsen['cleantext']).toarray()"
      ],
      "execution_count": 0,
      "outputs": []
    },
    {
      "cell_type": "code",
      "metadata": {
        "id": "o_st0zhWTPX1",
        "colab_type": "code",
        "colab": {}
      },
      "source": [
        "dfsentiment1=pd.DataFrame(array_TFIDF)\n",
        "dfsentiment=pd.DataFrame(array_TFIDF)\n",
        "dfsentiment['target']=dfsen['sentiment'].tolist()"
      ],
      "execution_count": 0,
      "outputs": []
    },
    {
      "cell_type": "code",
      "metadata": {
        "id": "OCWSmDsKKoqL",
        "colab_type": "code",
        "colab": {}
      },
      "source": [
        "dftrain1=dfsentiment.sample(10000)\n",
        "#dftrain1=dfsentiment.sample(20000)\n",
        "#dftrain1=dfsentiment.sample(50000)\n",
        "X_train1 , X_test1, y_train1, y_test1 = train_test_split(dftrain1.iloc[:,:-1], dftrain1.iloc[:,-1], test_size=0.3, random_state=0)"
      ],
      "execution_count": 0,
      "outputs": []
    },
    {
      "cell_type": "markdown",
      "metadata": {
        "id": "rwy7z_9YY7EW",
        "colab_type": "text"
      },
      "source": [
        "Knn"
      ]
    },
    {
      "cell_type": "code",
      "metadata": {
        "id": "kL15KlckK20C",
        "colab_type": "code",
        "outputId": "92a763a1-283d-4afc-b5b0-a93c3a8b258e",
        "colab": {
          "base_uri": "https://localhost:8080/",
          "height": 34
        }
      },
      "source": [
        "knn=neighbors.KNeighborsClassifier(n_neighbors=100)\n",
        "knn.fit(X_train1,y_train1)\n",
        "accuracy=accuracy_score(y_train1,knn.predict(X_train1))\n",
        "accuracy\n",
        "#should be overfitting"
      ],
      "execution_count": 0,
      "outputs": [
        {
          "output_type": "execute_result",
          "data": {
            "text/plain": [
              "0.5031428571428571"
            ]
          },
          "metadata": {
            "tags": []
          },
          "execution_count": 36
        }
      ]
    },
    {
      "cell_type": "code",
      "metadata": {
        "id": "HeZ09Nu7TPTB",
        "colab_type": "code",
        "outputId": "4e5e4a0e-c144-4823-cf2e-96272bc3559a",
        "colab": {
          "base_uri": "https://localhost:8080/",
          "height": 433
        }
      },
      "source": [
        "from sklearn.model_selection import cross_val_score\n",
        "accuracylist=[]\n",
        "for i in [1,10,20,50,100,200,300,500,1000]:\n",
        "  knn=neighbors.KNeighborsClassifier(n_neighbors=i)\n",
        "  scores1=cross_val_score(knn,X_train1,y_train1,cv=10)\n",
        "  accuracy=scores1.mean()\n",
        "  accuracylist.append(accuracy)\n",
        "  print(i)\n",
        "\n",
        "ilist=[1,10,20,50,100,200,300,500,1000]\n",
        "plt.plot(ilist,accuracylist)"
      ],
      "execution_count": 0,
      "outputs": [
        {
          "output_type": "stream",
          "text": [
            "1\n",
            "10\n",
            "20\n",
            "50\n",
            "100\n",
            "200\n",
            "300\n",
            "500\n",
            "1000\n"
          ],
          "name": "stdout"
        },
        {
          "output_type": "execute_result",
          "data": {
            "text/plain": [
              "[<matplotlib.lines.Line2D at 0x7fe3b8ed50f0>]"
            ]
          },
          "metadata": {
            "tags": []
          },
          "execution_count": 40
        },
        {
          "output_type": "display_data",
          "data": {
            "image/png": "[encoded data removed]",
            "text/plain": [
              "<Figure size 432x288 with 1 Axes>"
            ]
          },
          "metadata": {
            "tags": []
          }
        }
      ]
    },
    {
      "cell_type": "code",
      "metadata": {
        "id": "Mb4tTV6OLgK2",
        "colab_type": "code",
        "outputId": "357b0764-21dd-448a-9ad7-04cbfe4351f1",
        "colab": {
          "base_uri": "https://localhost:8080/",
          "height": 35
        }
      },
      "source": [
        "knn=neighbors.KNeighborsClassifier(n_neighbors=10)\n",
        "knn.fit(X_test1,y_test1)\n",
        "accuracy=accuracy_score(y_test1,knn.predict(X_test1))\n",
        "accuracy"
      ],
      "execution_count": 0,
      "outputs": [
        {
          "output_type": "execute_result",
          "data": {
            "text/plain": [
              "0.6573333333333333"
            ]
          },
          "metadata": {
            "tags": []
          },
          "execution_count": 53
        }
      ]
    },
    {
      "cell_type": "markdown",
      "metadata": {
        "id": "L06o7AHpZH57",
        "colab_type": "text"
      },
      "source": [
        "logistic regression"
      ]
    },
    {
      "cell_type": "code",
      "metadata": {
        "id": "yHif_Rt4TPRJ",
        "colab_type": "code",
        "outputId": "04d0e122-5fa1-4321-c04e-965481d89f63",
        "colab": {
          "base_uri": "https://localhost:8080/",
          "height": 34
        }
      },
      "source": [
        "from sklearn.linear_model import LogisticRegression\n",
        "clf = LogisticRegression(max_iter=1000)\n",
        "clf.fit(X_train1, y_train1)\n",
        "accuracy=accuracy_score(y_train1,clf.predict(X_train1))\n",
        "accuracy\n",
        "#it is overfitting but we just wanna see it can run or not "
      ],
      "execution_count": 0,
      "outputs": [
        {
          "output_type": "execute_result",
          "data": {
            "text/plain": [
              "0.6506666666666666"
            ]
          },
          "metadata": {
            "tags": []
          },
          "execution_count": 41
        }
      ]
    },
    {
      "cell_type": "code",
      "metadata": {
        "id": "eIvHEsbNk-qX",
        "colab_type": "code",
        "outputId": "b445d845-619d-44b1-f6db-5b9e8239d551",
        "colab": {
          "base_uri": "https://localhost:8080/",
          "height": 353
        }
      },
      "source": [
        "solverlist=['liblinear','lbfgs','newton-cg','sag']\n",
        "clist=[0.01,0.05,0.1,0.5,1]\n",
        "sollist=[]\n",
        "penlist=[]\n",
        "accuracylist=[]\n",
        "for m in solverlist:\n",
        "  for n in clist:\n",
        "    clf = LogisticRegression(C=n,solver=m,max_iter=1000)\n",
        "    scores1=cross_val_score(clf,X_train1,y_train1,cv=10)\n",
        "    accuracy=scores1.mean()\n",
        "    sollist.append(m)\n",
        "    penlist.append(n)\n",
        "    accuracylist.append(accuracy)\n",
        "    print(m,n)"
      ],
      "execution_count": 0,
      "outputs": [
        {
          "output_type": "stream",
          "text": [
            "liblinear 0.01\n",
            "liblinear 0.05\n",
            "liblinear 0.1\n",
            "liblinear 0.5\n",
            "liblinear 1\n",
            "lbfgs 0.01\n",
            "lbfgs 0.05\n",
            "lbfgs 0.1\n",
            "lbfgs 0.5\n",
            "lbfgs 1\n",
            "newton-cg 0.01\n",
            "newton-cg 0.05\n",
            "newton-cg 0.1\n",
            "newton-cg 0.5\n",
            "newton-cg 1\n",
            "sag 0.01\n",
            "sag 0.05\n",
            "sag 0.1\n",
            "sag 0.5\n",
            "sag 1\n"
          ],
          "name": "stdout"
        }
      ]
    },
    {
      "cell_type": "code",
      "metadata": {
        "id": "yRKxl55RoH1Z",
        "colab_type": "code",
        "outputId": "2eb91cc4-2ff2-4f31-e9c6-8c060bdc9fbd",
        "colab": {
          "base_uri": "https://localhost:8080/",
          "height": 67
        }
      },
      "source": [
        "print(max(accuracylist))\n",
        "print(penlist[accuracylist.index(max(accuracylist))])\n",
        "print(sollist[accuracylist.index(max(accuracylist))])"
      ],
      "execution_count": 0,
      "outputs": [
        {
          "output_type": "stream",
          "text": [
            "0.6872857142857143\n",
            "0.01\n",
            "liblinear\n"
          ],
          "name": "stdout"
        }
      ]
    },
    {
      "cell_type": "code",
      "metadata": {
        "id": "JMMl_LyLUD2m",
        "colab_type": "code",
        "outputId": "4e807f67-54e2-411a-a896-8bacb48d1e6e",
        "colab": {
          "base_uri": "https://localhost:8080/",
          "height": 34
        }
      },
      "source": [
        "clf = LogisticRegression(C=0.01,solver='liblinear',max_iter=1000)\n",
        "clf.fit(X_train1, y_train1)\n",
        "accuracy=accuracy_score(y_test1,clf.predict(X_test1))\n",
        "accuracy"
      ],
      "execution_count": 0,
      "outputs": [
        {
          "output_type": "execute_result",
          "data": {
            "text/plain": [
              "0.6846666666666666"
            ]
          },
          "metadata": {
            "tags": []
          },
          "execution_count": 45
        }
      ]
    },
    {
      "cell_type": "markdown",
      "metadata": {
        "id": "WxEJ7O6wZLSM",
        "colab_type": "text"
      },
      "source": [
        "naive byes"
      ]
    },
    {
      "cell_type": "code",
      "metadata": {
        "id": "wE2KsI5KTPOv",
        "colab_type": "code",
        "outputId": "d0d65972-821c-4f7b-ac89-c52a5d2e7395",
        "colab": {
          "base_uri": "https://localhost:8080/",
          "height": 34
        }
      },
      "source": [
        "from sklearn.naive_bayes import MultinomialNB\n",
        "clf = MultinomialNB()\n",
        "clf.fit(X_train1, y_train1)\n",
        "MultinomialNB()\n",
        "y_pred=clf.predict(X_train1)\n",
        "accuracyscore=accuracy_score(y_pred,y_train1)\n",
        "accuracyscore\n",
        "#it is overfitting but we just wanna see it can run or not "
      ],
      "execution_count": 0,
      "outputs": [
        {
          "output_type": "execute_result",
          "data": {
            "text/plain": [
              "0.7341428571428571"
            ]
          },
          "metadata": {
            "tags": []
          },
          "execution_count": 46
        }
      ]
    },
    {
      "cell_type": "code",
      "metadata": {
        "id": "0wLbXSwBnXJ0",
        "colab_type": "code",
        "outputId": "8c527667-7d0b-4613-bf3c-a980f725b86b",
        "colab": {
          "base_uri": "https://localhost:8080/",
          "height": 134
        }
      },
      "source": [
        "accuracylist=[]\n",
        "for i in [1,2,5,10,20,50,100]:\n",
        "  clf = MultinomialNB(alpha=i/100)\n",
        "  scores1=cross_val_score(clf,X_train1,y_train1,cv=10)\n",
        "  accuracyscore=scores1.mean()\n",
        "  accuracylist.append(accuracyscore)\n",
        "  print(i)"
      ],
      "execution_count": 0,
      "outputs": [
        {
          "output_type": "stream",
          "text": [
            "1\n",
            "2\n",
            "5\n",
            "10\n",
            "20\n",
            "50\n",
            "100\n"
          ],
          "name": "stdout"
        }
      ]
    },
    {
      "cell_type": "code",
      "metadata": {
        "id": "eFMxskl9oNam",
        "colab_type": "code",
        "outputId": "818218ae-2936-484b-9251-d2f1b6d36b51",
        "colab": {
          "base_uri": "https://localhost:8080/",
          "height": 50
        }
      },
      "source": [
        "print(accuracylist.index(max(accuracylist)))\n",
        "max(accuracylist)"
      ],
      "execution_count": 0,
      "outputs": [
        {
          "output_type": "stream",
          "text": [
            "0\n"
          ],
          "name": "stdout"
        },
        {
          "output_type": "execute_result",
          "data": {
            "text/plain": [
              "0.6392857142857142"
            ]
          },
          "metadata": {
            "tags": []
          },
          "execution_count": 52
        }
      ]
    },
    {
      "cell_type": "code",
      "metadata": {
        "id": "-oa0HAB6U-41",
        "colab_type": "code",
        "outputId": "aef3258a-f6f4-463d-8bcd-385d22f27e29",
        "colab": {
          "base_uri": "https://localhost:8080/",
          "height": 34
        }
      },
      "source": [
        "clf = MultinomialNB(alpha=1/100)\n",
        "clf.fit(X_train1, y_train1)\n",
        "MultinomialNB()\n",
        "y_pred=clf.predict(X_test1)\n",
        "accuracyscore=accuracy_score(y_pred,y_test1)\n",
        "accuracyscore"
      ],
      "execution_count": 0,
      "outputs": [
        {
          "output_type": "execute_result",
          "data": {
            "text/plain": [
              "0.6463333333333333"
            ]
          },
          "metadata": {
            "tags": []
          },
          "execution_count": 53
        }
      ]
    },
    {
      "cell_type": "markdown",
      "metadata": {
        "id": "4LnNZeV2ZTVi",
        "colab_type": "text"
      },
      "source": [
        "svm"
      ]
    },
    {
      "cell_type": "code",
      "metadata": {
        "id": "oImBkw9fASpq",
        "colab_type": "code",
        "outputId": "39d44378-e241-41dc-e447-b8fc2c04f8ce",
        "colab": {
          "base_uri": "https://localhost:8080/",
          "height": 35
        }
      },
      "source": [
        "from sklearn.svm import SVC\n",
        "clf = SVC(gamma='auto')\n",
        "clf.fit(X_train1, y_train1)\n",
        "y_pred=clf.predict(X_train1)\n",
        "accuracyscore=accuracy_score(y_pred,y_train1)\n",
        "accuracyscore\n",
        "#it is overfitting but we just wanna see it can run or not "
      ],
      "execution_count": 0,
      "outputs": [
        {
          "output_type": "execute_result",
          "data": {
            "text/plain": [
              "0.7388571428571429"
            ]
          },
          "metadata": {
            "tags": []
          },
          "execution_count": 46
        }
      ]
    },
    {
      "cell_type": "code",
      "metadata": {
        "id": "4_hC7xlkASmp",
        "colab_type": "code",
        "outputId": "98c4c537-428a-40f5-d7c7-2cd5a2736e24",
        "colab": {
          "base_uri": "https://localhost:8080/",
          "height": 390
        }
      },
      "source": [
        "from sklearn.model_selection import cross_val_score\n",
        "\n",
        "Clist=[1, 2, 4]\n",
        "gammalist=[0.125, 0.25, 0.5 ,1, 2, 4,'auto'] \n",
        "clist=[]\n",
        "accuracylist=[]\n",
        "gammmalist=[]\n",
        "for m in Clist:\n",
        "  for n in gammalist:\n",
        "    clf = SVC(gamma=n,C=m)\n",
        "    scores1=cross_val_score(clf,X_train1,y_train1,cv=10)\n",
        "    accuracyscore=scores1.mean()\n",
        "    accuracylist.append(accuracyscore)\n",
        "    clist.append(m)\n",
        "    gammmalist.append(n)\n",
        "    print(m,n)\n"
      ],
      "execution_count": 0,
      "outputs": [
        {
          "output_type": "stream",
          "text": [
            "1 0.125\n",
            "1 0.25\n",
            "1 0.5\n",
            "1 1\n",
            "1 2\n",
            "1 4\n",
            "1 auto\n",
            "2 0.125\n",
            "2 0.25\n",
            "2 0.5\n",
            "2 1\n",
            "2 2\n",
            "2 4\n",
            "2 auto\n",
            "4 0.125\n",
            "4 0.25\n",
            "4 0.5\n",
            "4 1\n",
            "4 2\n",
            "4 4\n",
            "4 auto\n"
          ],
          "name": "stdout"
        }
      ]
    },
    {
      "cell_type": "code",
      "metadata": {
        "id": "0aSqpFIWASj6",
        "colab_type": "code",
        "outputId": "a1d18845-77c1-4ae7-a3db-cfea43bba992",
        "colab": {
          "base_uri": "https://localhost:8080/",
          "height": 70
        }
      },
      "source": [
        "print(max(accuracylist))\n",
        "print(gammmalist[accuracylist.index(max(accuracylist))])\n",
        "print(clist[accuracylist.index(max(accuracylist))])\n"
      ],
      "execution_count": 0,
      "outputs": [
        {
          "output_type": "stream",
          "text": [
            "0.6414285714285713\n",
            "auto\n",
            "4\n"
          ],
          "name": "stdout"
        }
      ]
    },
    {
      "cell_type": "code",
      "metadata": {
        "id": "cji3jh9YASeR",
        "colab_type": "code",
        "outputId": "d859e619-d9e4-4f0e-c0f5-f8e3ac48e22b",
        "colab": {
          "base_uri": "https://localhost:8080/",
          "height": 35
        }
      },
      "source": [
        "n=gammmalist[accuracylist.index(max(accuracylist))]\n",
        "m=clist[accuracylist.index(max(accuracylist))]\n",
        "clf = SVC(gamma=n,C=m)\n",
        "clf.fit(X_train1, y_train1)\n",
        "accuracy=accuracy_score(y_test1,clf.predict(X_test1))\n",
        "accuracy"
      ],
      "execution_count": 0,
      "outputs": [
        {
          "output_type": "execute_result",
          "data": {
            "text/plain": [
              "0.6166666666666667"
            ]
          },
          "metadata": {
            "tags": []
          },
          "execution_count": 41
        }
      ]
    },
    {
      "cell_type": "markdown",
      "metadata": {
        "id": "E8HEkIw1TO7I",
        "colab_type": "text"
      },
      "source": [
        "decision tree"
      ]
    },
    {
      "cell_type": "code",
      "metadata": {
        "id": "Id2KuJgBZcdD",
        "colab_type": "code",
        "colab": {}
      },
      "source": [
        "from sklearn import tree\n",
        "clf = tree.DecisionTreeClassifier()\n",
        "clf.fit(X_train1,y_train1)\n",
        "y_pred=clf.predict(X_train1)\n",
        "accuracyscore=accuracy_score(y_pred,y_train1)"
      ],
      "execution_count": 0,
      "outputs": []
    },
    {
      "cell_type": "code",
      "metadata": {
        "id": "oKJx76yKcKJe",
        "colab_type": "code",
        "outputId": "b04c77a5-4740-4229-ae68-c4f7f3f2f694",
        "colab": {
          "base_uri": "https://localhost:8080/",
          "height": 34
        }
      },
      "source": [
        "accuracyscore\n",
        "#it is overfitting but we just wanna see it can run or not "
      ],
      "execution_count": 0,
      "outputs": [
        {
          "output_type": "execute_result",
          "data": {
            "text/plain": [
              "0.9684285714285714"
            ]
          },
          "metadata": {
            "tags": []
          },
          "execution_count": 55
        }
      ]
    },
    {
      "cell_type": "code",
      "metadata": {
        "id": "OUODxyM5tJxM",
        "colab_type": "code",
        "outputId": "59d9939a-c6f9-420b-fe30-292e0a95f0e9",
        "colab": {
          "base_uri": "https://localhost:8080/",
          "height": 218
        }
      },
      "source": [
        "criterionlist=['gini','entropy']\n",
        "max_depthlist=[None,10,25,50,75,100]\n",
        "crilist=[]\n",
        "maxlist=[]\n",
        "accuracylist=[]\n",
        "for n in criterionlist:\n",
        "  for m in max_depthlist:\n",
        "    clf = tree.DecisionTreeClassifier(criterion=n,max_depth=m)\n",
        "    scores1=cross_val_score(clf,X_train1,y_train1,cv=10)\n",
        "    accuracyscore=scores1.mean()\n",
        "    crilist.append(n)\n",
        "    maxlist.append(m)\n",
        "    accuracylist.append(accuracyscore)\n",
        "    print(m,n)"
      ],
      "execution_count": 0,
      "outputs": [
        {
          "output_type": "stream",
          "text": [
            "None gini\n",
            "10 gini\n",
            "25 gini\n",
            "50 gini\n",
            "75 gini\n",
            "100 gini\n",
            "None entropy\n",
            "10 entropy\n",
            "25 entropy\n",
            "50 entropy\n",
            "75 entropy\n",
            "100 entropy\n"
          ],
          "name": "stdout"
        }
      ]
    },
    {
      "cell_type": "code",
      "metadata": {
        "id": "H5o9Dm99hwM3",
        "colab_type": "code",
        "outputId": "673a998c-7e2b-4c43-95b2-4c9b1c3d3fed",
        "colab": {
          "base_uri": "https://localhost:8080/",
          "height": 50
        }
      },
      "source": [
        "print(accuracylist.index(max(accuracylist)))\n",
        "max(accuracylist)"
      ],
      "execution_count": 0,
      "outputs": [
        {
          "output_type": "stream",
          "text": [
            "6\n"
          ],
          "name": "stdout"
        },
        {
          "output_type": "execute_result",
          "data": {
            "text/plain": [
              "0.635"
            ]
          },
          "metadata": {
            "tags": []
          },
          "execution_count": 57
        }
      ]
    },
    {
      "cell_type": "code",
      "metadata": {
        "id": "ImXcP0qkaZzx",
        "colab_type": "code",
        "colab": {}
      },
      "source": [
        "clf = tree.DecisionTreeClassifier(criterion='entropy',max_depth=None)\n",
        "clf.fit(X_train1,y_train1)\n",
        "y_pred=clf.predict(X_test1)\n",
        "accuracyscore=accuracy_score(y_pred,y_test1)"
      ],
      "execution_count": 0,
      "outputs": []
    },
    {
      "cell_type": "code",
      "metadata": {
        "id": "7bfqXQPR4B4I",
        "colab_type": "code",
        "outputId": "ac60e948-a940-4611-c9f0-4a81f033249a",
        "colab": {
          "base_uri": "https://localhost:8080/",
          "height": 34
        }
      },
      "source": [
        "accuracyscore"
      ],
      "execution_count": 0,
      "outputs": [
        {
          "output_type": "execute_result",
          "data": {
            "text/plain": [
              "0.6296666666666667"
            ]
          },
          "metadata": {
            "tags": []
          },
          "execution_count": 60
        }
      ]
    },
    {
      "cell_type": "markdown",
      "metadata": {
        "id": "HTk6GiiFTO4J",
        "colab_type": "text"
      },
      "source": [
        "random forest"
      ]
    },
    {
      "cell_type": "code",
      "metadata": {
        "id": "QScUpoMlZdVe",
        "colab_type": "code",
        "outputId": "f2498619-9449-4af6-9f38-bdf51cf6614e",
        "colab": {
          "base_uri": "https://localhost:8080/",
          "height": 50
        }
      },
      "source": [
        "from sklearn.ensemble import RandomForestClassifier\n",
        "from sklearn.model_selection import GridSearchCV\n",
        "from sklearn import  metrics\n",
        "\n",
        "rf0 = RandomForestClassifier(oob_score=True, random_state=12)\n",
        "rf0.fit(X_train1,y_train1)\n",
        "print (rf0.oob_score_)\n",
        "y_pred = rf0.predict(X_train1)\n",
        "accuracyscore=accuracy_score(y_pred,y_train1)\n",
        "accuracyscore\n",
        "#it is overfitting but we just wanna see it can run or not "
      ],
      "execution_count": 0,
      "outputs": [
        {
          "output_type": "stream",
          "text": [
            "0.6685714285714286\n"
          ],
          "name": "stdout"
        },
        {
          "output_type": "execute_result",
          "data": {
            "text/plain": [
              "0.6656666666666666"
            ]
          },
          "metadata": {
            "tags": []
          },
          "execution_count": 61
        }
      ]
    },
    {
      "cell_type": "code",
      "metadata": {
        "id": "ew97V_rjZd3d",
        "colab_type": "code",
        "outputId": "4b531e37-5317-4efb-bcf1-1191a397fea6",
        "colab": {
          "base_uri": "https://localhost:8080/",
          "height": 1000
        }
      },
      "source": [
        "depthlist=[10,20,30,40,50,60,70,80,90,100]\n",
        "estimatorslist=[25,50,75,100,125,150,200,300]\n",
        "accuracylist=[]\n",
        "mlist=[]\n",
        "nlist=[]\n",
        "for m in depthlist:\n",
        "  for n in estimatorslist:\n",
        "    rf0 = RandomForestClassifier(oob_score=True, random_state=12,max_depth=m,n_estimators=n)\n",
        "    scores1=cross_val_score(rf0,X_train1,y_train1,cv=10)\n",
        "    accuracyscore=scores1.mean()\n",
        "    accuracylist.append(accuracyscore)\n",
        "    mlist.append(m)\n",
        "    nlist.append(n)\n",
        "    print(m,n)"
      ],
      "execution_count": 0,
      "outputs": [
        {
          "output_type": "stream",
          "text": [
            "10 25\n",
            "10 50\n",
            "10 75\n",
            "10 100\n",
            "10 125\n",
            "10 150\n",
            "10 200\n",
            "10 300\n",
            "20 25\n",
            "20 50\n",
            "20 75\n",
            "20 100\n",
            "20 125\n",
            "20 150\n",
            "20 200\n",
            "20 300\n",
            "30 25\n",
            "30 50\n",
            "30 75\n",
            "30 100\n",
            "30 125\n",
            "30 150\n",
            "30 200\n",
            "30 300\n",
            "40 25\n",
            "40 50\n",
            "40 75\n",
            "40 100\n",
            "40 125\n",
            "40 150\n",
            "40 200\n",
            "40 300\n",
            "50 25\n",
            "50 50\n",
            "50 75\n",
            "50 100\n",
            "50 125\n",
            "50 150\n",
            "50 200\n",
            "50 300\n",
            "60 25\n",
            "60 50\n",
            "60 75\n",
            "60 100\n",
            "60 125\n",
            "60 150\n",
            "60 200\n",
            "60 300\n",
            "70 25\n",
            "70 50\n",
            "70 75\n",
            "70 100\n",
            "70 125\n",
            "70 150\n",
            "70 200\n",
            "70 300\n",
            "80 25\n",
            "80 50\n",
            "80 75\n",
            "80 100\n",
            "80 125\n",
            "80 150\n",
            "80 200\n",
            "80 300\n",
            "90 25\n",
            "90 50\n",
            "90 75\n",
            "90 100\n",
            "90 125\n",
            "90 150\n",
            "90 200\n",
            "90 300\n",
            "100 25\n",
            "100 50\n",
            "100 75\n",
            "100 100\n",
            "100 125\n",
            "100 150\n",
            "100 200\n",
            "100 300\n"
          ],
          "name": "stdout"
        }
      ]
    },
    {
      "cell_type": "code",
      "metadata": {
        "id": "I75Pu1dSR6Ji",
        "colab_type": "code",
        "outputId": "fefe6e18-e6b1-4095-b4f9-a0934eb3b96a",
        "colab": {
          "base_uri": "https://localhost:8080/",
          "height": 34
        }
      },
      "source": [
        "\n",
        "m=mlist[accuracylist.index(max(accuracylist))]\n",
        "n=nlist[accuracylist.index(max(accuracylist))]\n",
        "max(accuracylist)\n"
      ],
      "execution_count": 0,
      "outputs": [
        {
          "output_type": "execute_result",
          "data": {
            "text/plain": [
              "0.6838571428571428"
            ]
          },
          "metadata": {
            "tags": []
          },
          "execution_count": 66
        }
      ]
    },
    {
      "cell_type": "code",
      "metadata": {
        "id": "yfko6giirGsb",
        "colab_type": "code",
        "outputId": "4e3e44b7-a6a9-4f38-b5e9-556b6d0a6750",
        "colab": {
          "base_uri": "https://localhost:8080/",
          "height": 50
        }
      },
      "source": [
        "rf0 = RandomForestClassifier(oob_score=True, random_state=12,max_depth=m,n_estimators=n)\n",
        "rf0.fit(X_train1,y_train1)\n",
        "print (rf0.oob_score_)\n",
        "y_pred = rf0.predict(X_test1)\n",
        "accuracyscore=accuracy_score(y_pred,y_test1)\n",
        "accuracyscore"
      ],
      "execution_count": 0,
      "outputs": [
        {
          "output_type": "stream",
          "text": [
            "0.6831428571428572\n"
          ],
          "name": "stdout"
        },
        {
          "output_type": "execute_result",
          "data": {
            "text/plain": [
              "0.6743333333333333"
            ]
          },
          "metadata": {
            "tags": []
          },
          "execution_count": 67
        }
      ]
    },
    {
      "cell_type": "markdown",
      "metadata": {
        "id": "XYV24m7i-7fR",
        "colab_type": "text"
      },
      "source": [
        "XGboost"
      ]
    },
    {
      "cell_type": "code",
      "metadata": {
        "id": "-I344Xd3-7NN",
        "colab_type": "code",
        "outputId": "d4fe3365-c163-4d24-aed6-bc5bfdef96bf",
        "colab": {
          "base_uri": "https://localhost:8080/",
          "height": 35
        }
      },
      "source": [
        "clf = XGBClassifier(learning_rate= 0.3,max_depth=6,n_estimators=100)\n",
        "clf.fit(X_train1, y_train1,eval_metric='auc',verbose=False)\n",
        "accuracyscore=accuracy_score(clf.predict(X_train1),y_train1)\n",
        "accuracyscore\n",
        "#of course it is overfitting\n",
        "\n"
      ],
      "execution_count": 0,
      "outputs": [
        {
          "output_type": "execute_result",
          "data": {
            "text/plain": [
              "0.8357142857142857"
            ]
          },
          "metadata": {
            "tags": []
          },
          "execution_count": 55
        }
      ]
    },
    {
      "cell_type": "code",
      "metadata": {
        "id": "ftFb_fp8-7KC",
        "colab_type": "code",
        "outputId": "187171fa-eae0-4e68-8487-3405afe99b86",
        "colab": {
          "base_uri": "https://localhost:8080/",
          "height": 230
        }
      },
      "source": [
        "LRlist=[0.3,0.5,0.7]\n",
        "depthlist=[3,5,7,10]\n",
        "pralist=[]\n",
        "accuracylist=[]\n",
        "for a in LRlist:\n",
        "  for b in depthlist:\n",
        "   clf = XGBClassifier(learning_rate= a,max_depth=b,n_estimators=100)\n",
        "   scores1=cross_val_score(clf,X_train1,y_train1,cv=10)\n",
        "   accuracyscore=scores1.mean()\n",
        "   pralist.append(a)\n",
        "   pralist.append(b)  \n",
        "   accuracylist.append(accuracyscore)\n",
        "   print(a,b)\n"
      ],
      "execution_count": 0,
      "outputs": [
        {
          "output_type": "stream",
          "text": [
            "0.3 3\n",
            "0.3 5\n",
            "0.3 7\n",
            "0.3 10\n",
            "0.5 3\n",
            "0.5 5\n",
            "0.5 7\n",
            "0.5 10\n",
            "0.7 3\n",
            "0.7 5\n",
            "0.7 7\n",
            "0.7 10\n"
          ],
          "name": "stdout"
        }
      ]
    },
    {
      "cell_type": "code",
      "metadata": {
        "id": "hanwcw2f-7G2",
        "colab_type": "code",
        "outputId": "3d803dee-c5cd-4658-d068-55bab224427e",
        "colab": {
          "base_uri": "https://localhost:8080/",
          "height": 52
        }
      },
      "source": [
        "print(max(accuracylist))\n",
        "accuracylist.index(max(accuracylist))"
      ],
      "execution_count": 0,
      "outputs": [
        {
          "output_type": "stream",
          "text": [
            "0.6114285714285714\n"
          ],
          "name": "stdout"
        },
        {
          "output_type": "execute_result",
          "data": {
            "text/plain": [
              "5"
            ]
          },
          "metadata": {
            "tags": []
          },
          "execution_count": 58
        }
      ]
    },
    {
      "cell_type": "code",
      "metadata": {
        "id": "rA24CEha_Df7",
        "colab_type": "code",
        "outputId": "b9cfc6a5-819e-4c37-f7e8-0989276a2842",
        "colab": {
          "base_uri": "https://localhost:8080/",
          "height": 35
        }
      },
      "source": [
        "clf = XGBClassifier(learning_rate= 0.3,max_depth=6,n_estimators=100)\n",
        "clf.fit(X_train1, y_train1,eval_metric='auc',verbose=False)\n",
        "accuracyscore=accuracy_score(clf.predict(X_test1),y_test1)\n",
        "accuracyscore"
      ],
      "execution_count": 0,
      "outputs": [
        {
          "output_type": "execute_result",
          "data": {
            "text/plain": [
              "0.66"
            ]
          },
          "metadata": {
            "tags": []
          },
          "execution_count": 60
        }
      ]
    },
    {
      "cell_type": "markdown",
      "metadata": {
        "id": "deQWNQJErYVc",
        "colab_type": "text"
      },
      "source": [
        "LR with WF does the best job so we choose this model to do the next step."
      ]
    },
    {
      "cell_type": "markdown",
      "metadata": {
        "id": "INhpBGUhszW4",
        "colab_type": "text"
      },
      "source": [
        "#selection dataset predict and distribution"
      ]
    },
    {
      "cell_type": "markdown",
      "metadata": {
        "id": "6c3IB2SVsceD",
        "colab_type": "text"
      },
      "source": [
        "now we try it on the canada selection data."
      ]
    },
    {
      "cell_type": "code",
      "metadata": {
        "id": "ktezHXaJFmjf",
        "colab_type": "code",
        "colab": {}
      },
      "source": [
        "array_WF = vectorizer.transform(dfsel['cleantext']).toarray()\n",
        "dfseltiment=pd.DataFrame(array_WF)\n",
        "dfseltiment['target']=dfsel['sentiment'].tolist()"
      ],
      "execution_count": 0,
      "outputs": []
    },
    {
      "cell_type": "code",
      "metadata": {
        "id": "4a1399NfxT4q",
        "colab_type": "code",
        "colab": {}
      },
      "source": [
        "from sklearn.linear_model import LogisticRegression\n",
        "clf = LogisticRegression(max_iter=1000,C=0.1,solver='lbfgs')\n",
        "clf.fit(X_train, y_train)\n",
        "accuracy=accuracy_score(dfsel['sentiment'].tolist(),clf.predict(array_WF))"
      ],
      "execution_count": 0,
      "outputs": []
    },
    {
      "cell_type": "code",
      "metadata": {
        "id": "IsUAI4RWHwN9",
        "colab_type": "code",
        "outputId": "08ed6ac1-3181-4711-82fc-ad37296a7158",
        "colab": {
          "base_uri": "https://localhost:8080/",
          "height": 34
        }
      },
      "source": [
        "accuracy"
      ],
      "execution_count": 0,
      "outputs": [
        {
          "output_type": "execute_result",
          "data": {
            "text/plain": [
              "0.60056258790436"
            ]
          },
          "metadata": {
            "tags": []
          },
          "execution_count": 42
        }
      ]
    },
    {
      "cell_type": "code",
      "metadata": {
        "id": "KdfBJlWINc86",
        "colab_type": "code",
        "colab": {}
      },
      "source": [
        "dfcount1['ture']=dfsel['sentiment']\n",
        "dfcount1['predict']=clf.predict(array_WF)\n",
        "dfcount1=dfcount1.iloc[:,-3:]\n",
        "dfcount1"
      ],
      "execution_count": 0,
      "outputs": []
    },
    {
      "cell_type": "code",
      "metadata": {
        "id": "nK_OyUZ1Nc6Y",
        "colab_type": "code",
        "outputId": "5d7801e2-81aa-4156-acf6-5b74a81b43d5",
        "colab": {
          "base_uri": "https://localhost:8080/",
          "height": 303
        }
      },
      "source": [
        "#NDP\n",
        "true_V=dfcount1.loc[dfcount1['class']=='NPD']['ture'].value_counts().tolist()\n",
        "label=dfcount1.loc[dfcount1['class']=='NPD']['ture'].value_counts().index.tolist()\n",
        "pred_V=dfcount1.loc[dfcount1['class']=='NPD']['predict'].value_counts().tolist()\n",
        "plt.subplot(121)\n",
        "plt.pie(true_V,labels=label,autopct='%1.2f%%')\n",
        "plt.subplot(121).set_title('true')\n",
        "plt.subplot(122) \n",
        "plt.pie(pred_V,labels=label,autopct='%1.2f%%') \n",
        "plt.subplot(122).set_title('pred')"
      ],
      "execution_count": 0,
      "outputs": [
        {
          "output_type": "stream",
          "text": [
            "/usr/local/lib/python3.6/dist-packages/ipykernel_launcher.py:6: MatplotlibDeprecationWarning: Adding an axes using the same arguments as a previous axes currently reuses the earlier instance.  In a future version, a new instance will always be created and returned.  Meanwhile, this warning can be suppressed, and the future behavior ensured, by passing a unique label to each axes instance.\n",
            "  \n",
            "/usr/local/lib/python3.6/dist-packages/ipykernel_launcher.py:9: MatplotlibDeprecationWarning: Adding an axes using the same arguments as a previous axes currently reuses the earlier instance.  In a future version, a new instance will always be created and returned.  Meanwhile, this warning can be suppressed, and the future behavior ensured, by passing a unique label to each axes instance.\n",
            "  if __name__ == '__main__':\n"
          ],
          "name": "stderr"
        },
        {
          "output_type": "execute_result",
          "data": {
            "text/plain": [
              "Text(0.5, 1.0, 'pred')"
            ]
          },
          "metadata": {
            "tags": []
          },
          "execution_count": 95
        },
        {
          "output_type": "display_data",
          "data": {
            "image/png": "[encoded data removed]",
            "text/plain": [
              "<Figure size 432x288 with 2 Axes>"
            ]
          },
          "metadata": {
            "tags": []
          }
        }
      ]
    },
    {
      "cell_type": "code",
      "metadata": {
        "id": "BqYTEKybNcw8",
        "colab_type": "code",
        "outputId": "7e513621-193c-4e7d-b614-f55fd48893b7",
        "colab": {
          "base_uri": "https://localhost:8080/",
          "height": 34
        }
      },
      "source": [
        "dfcount1['class'].unique()"
      ],
      "execution_count": 0,
      "outputs": [
        {
          "output_type": "execute_result",
          "data": {
            "text/plain": [
              "array(['NONE', 'PPC', 'NPD', 'LIBER', 'GREEN', 'CPC'], dtype=object)"
            ]
          },
          "metadata": {
            "tags": []
          },
          "execution_count": 96
        }
      ]
    },
    {
      "cell_type": "code",
      "metadata": {
        "id": "oFCoDX11jf1l",
        "colab_type": "code",
        "outputId": "b66ba62b-baae-43ad-c70d-1c8420f50fa5",
        "colab": {
          "base_uri": "https://localhost:8080/",
          "height": 303
        }
      },
      "source": [
        "#CPC\n",
        "true_V=dfcount1.loc[dfcount1['class']=='PPC']['ture'].value_counts().tolist()\n",
        "label=dfcount1.loc[dfcount1['class']=='PPC']['ture'].value_counts().index.tolist()\n",
        "pred_V=dfcount1.loc[dfcount1['class']=='PPC']['predict'].value_counts().tolist()\n",
        "plt.subplot(121)\n",
        "plt.pie(true_V,labels=label,autopct='%1.2f%%')\n",
        "plt.subplot(121).set_title('true')\n",
        "plt.subplot(122) \n",
        "plt.pie(pred_V,labels=label,autopct='%1.2f%%') \n",
        "plt.subplot(122).set_title('pred')"
      ],
      "execution_count": 0,
      "outputs": [
        {
          "output_type": "stream",
          "text": [
            "/usr/local/lib/python3.6/dist-packages/ipykernel_launcher.py:6: MatplotlibDeprecationWarning: Adding an axes using the same arguments as a previous axes currently reuses the earlier instance.  In a future version, a new instance will always be created and returned.  Meanwhile, this warning can be suppressed, and the future behavior ensured, by passing a unique label to each axes instance.\n",
            "  \n",
            "/usr/local/lib/python3.6/dist-packages/ipykernel_launcher.py:9: MatplotlibDeprecationWarning: Adding an axes using the same arguments as a previous axes currently reuses the earlier instance.  In a future version, a new instance will always be created and returned.  Meanwhile, this warning can be suppressed, and the future behavior ensured, by passing a unique label to each axes instance.\n",
            "  if __name__ == '__main__':\n"
          ],
          "name": "stderr"
        },
        {
          "output_type": "execute_result",
          "data": {
            "text/plain": [
              "Text(0.5, 1.0, 'pred')"
            ]
          },
          "metadata": {
            "tags": []
          },
          "execution_count": 99
        },
        {
          "output_type": "display_data",
          "data": {
            "image/png": "[encoded data removed]",
            "text/plain": [
              "<Figure size 432x288 with 2 Axes>"
            ]
          },
          "metadata": {
            "tags": []
          }
        }
      ]
    },
    {
      "cell_type": "code",
      "metadata": {
        "id": "qpffwfg3Yt7r",
        "colab_type": "code",
        "outputId": "762d84ce-80b3-4861-ec61-0eda82651829",
        "colab": {
          "base_uri": "https://localhost:8080/",
          "height": 303
        }
      },
      "source": [
        "#LIBER\n",
        "true_V=dfcount1.loc[dfcount1['class']=='LIBER']['ture'].value_counts().tolist()\n",
        "label=dfcount1.loc[dfcount1['class']=='LIBER']['ture'].value_counts().index.tolist()\n",
        "pred_V=dfcount1.loc[dfcount1['class']=='LIBER']['predict'].value_counts().tolist()\n",
        "plt.subplot(121)\n",
        "plt.pie(true_V,labels=label,autopct='%1.2f%%')\n",
        "plt.subplot(121).set_title('true')\n",
        "plt.subplot(122) \n",
        "plt.pie(pred_V,labels=label,autopct='%1.2f%%') \n",
        "plt.subplot(122).set_title('pred')"
      ],
      "execution_count": 0,
      "outputs": [
        {
          "output_type": "stream",
          "text": [
            "/usr/local/lib/python3.6/dist-packages/ipykernel_launcher.py:6: MatplotlibDeprecationWarning: Adding an axes using the same arguments as a previous axes currently reuses the earlier instance.  In a future version, a new instance will always be created and returned.  Meanwhile, this warning can be suppressed, and the future behavior ensured, by passing a unique label to each axes instance.\n",
            "  \n",
            "/usr/local/lib/python3.6/dist-packages/ipykernel_launcher.py:9: MatplotlibDeprecationWarning: Adding an axes using the same arguments as a previous axes currently reuses the earlier instance.  In a future version, a new instance will always be created and returned.  Meanwhile, this warning can be suppressed, and the future behavior ensured, by passing a unique label to each axes instance.\n",
            "  if __name__ == '__main__':\n"
          ],
          "name": "stderr"
        },
        {
          "output_type": "execute_result",
          "data": {
            "text/plain": [
              "Text(0.5, 1.0, 'pred')"
            ]
          },
          "metadata": {
            "tags": []
          },
          "execution_count": 101
        },
        {
          "output_type": "display_data",
          "data": {
            "image/png": "[encoded data removed]",
            "text/plain": [
              "<Figure size 432x288 with 2 Axes>"
            ]
          },
          "metadata": {
            "tags": []
          }
        }
      ]
    },
    {
      "cell_type": "code",
      "metadata": {
        "id": "8GnQ-aAeYv8P",
        "colab_type": "code",
        "outputId": "23f2ccb6-8ebc-4b5c-ff5f-86ceb3e8db66",
        "colab": {
          "base_uri": "https://localhost:8080/",
          "height": 303
        }
      },
      "source": [
        "#NONE\n",
        "true_V=dfcount1.loc[dfcount1['class']=='NONE']['ture'].value_counts().tolist()\n",
        "label=dfcount1.loc[dfcount1['class']=='NONE']['ture'].value_counts().index.tolist()\n",
        "pred_V=dfcount1.loc[dfcount1['class']=='NONE']['predict'].value_counts().tolist()\n",
        "plt.subplot(121)\n",
        "plt.pie(true_V,labels=label,autopct='%1.2f%%')\n",
        "plt.subplot(121).set_title('true')\n",
        "plt.subplot(122) \n",
        "plt.pie(pred_V,labels=label,autopct='%1.2f%%') \n",
        "plt.subplot(122).set_title('pred')"
      ],
      "execution_count": 0,
      "outputs": [
        {
          "output_type": "stream",
          "text": [
            "/usr/local/lib/python3.6/dist-packages/ipykernel_launcher.py:6: MatplotlibDeprecationWarning: Adding an axes using the same arguments as a previous axes currently reuses the earlier instance.  In a future version, a new instance will always be created and returned.  Meanwhile, this warning can be suppressed, and the future behavior ensured, by passing a unique label to each axes instance.\n",
            "  \n",
            "/usr/local/lib/python3.6/dist-packages/ipykernel_launcher.py:9: MatplotlibDeprecationWarning: Adding an axes using the same arguments as a previous axes currently reuses the earlier instance.  In a future version, a new instance will always be created and returned.  Meanwhile, this warning can be suppressed, and the future behavior ensured, by passing a unique label to each axes instance.\n",
            "  if __name__ == '__main__':\n"
          ],
          "name": "stderr"
        },
        {
          "output_type": "execute_result",
          "data": {
            "text/plain": [
              "Text(0.5, 1.0, 'pred')"
            ]
          },
          "metadata": {
            "tags": []
          },
          "execution_count": 106
        },
        {
          "output_type": "display_data",
          "data": {
            "image/png": "[encoded data removed]",
            "text/plain": [
              "<Figure size 432x288 with 2 Axes>"
            ]
          },
          "metadata": {
            "tags": []
          }
        }
      ]
    },
    {
      "cell_type": "markdown",
      "metadata": {
        "id": "l0gtzLZmIvdt",
        "colab_type": "text"
      },
      "source": [
        "NLP to predict the twitter"
      ]
    },
    {
      "cell_type": "markdown",
      "metadata": {
        "id": "qbAfTiwNcroc",
        "colab_type": "text"
      },
      "source": [
        "\n",
        "the accuracy is just 60% on selection set and to avoid crash we drop the word whose frequency is lower than 50. Which cause lose some important information(like goooooooooooal, It can be 100% positive but we drop it. So if we use NLP analytics based on tweets can somehow predict the result but it can't be quiet useful because language is really unpredictable and will cause to much noise for the model (even we use stem)"
      ]
    },
    {
      "cell_type": "markdown",
      "metadata": {
        "id": "M9qC-8R5pC7D",
        "colab_type": "text"
      },
      "source": [
        "#nagetive reason prediction "
      ]
    },
    {
      "cell_type": "code",
      "metadata": {
        "id": "4BOpd_92pCeL",
        "colab_type": "code",
        "colab": {}
      },
      "source": [
        "dfselsub=dfsel.loc[dfsel['sentiment']=='Negative']"
      ],
      "execution_count": 0,
      "outputs": []
    },
    {
      "cell_type": "code",
      "metadata": {
        "id": "ZKKVKJE2ZIwj",
        "colab_type": "code",
        "outputId": "3fa15b84-eaa5-4f30-a6d5-8e75a5c00607",
        "colab": {
          "base_uri": "https://localhost:8080/",
          "height": 88
        }
      },
      "source": [
        "dfselsub['negative_reason'].unique()"
      ],
      "execution_count": 0,
      "outputs": [
        {
          "output_type": "execute_result",
          "data": {
            "text/plain": [
              "array(['Women Reproductive right and Racism', 'Economy', 'Others',\n",
              "       'Scandal', 'Tell lies', 'Privilege', 'Climate Problem',\n",
              "       'Healthcare', 'Separation', 'Healthcare and Marijuana'],\n",
              "      dtype=object)"
            ]
          },
          "metadata": {
            "tags": []
          },
          "execution_count": 163
        }
      ]
    },
    {
      "cell_type": "code",
      "metadata": {
        "id": "AAYfByZxqEzP",
        "colab_type": "code",
        "colab": {}
      },
      "source": [
        "array_WF = vectorizer.transform(dfselsub['cleantext']).toarray()\n",
        "dfseltiment=pd.DataFrame(array_WF)\n",
        "dfseltiment['target']=dfselsub['negative_reason'].tolist()\n"
      ],
      "execution_count": 0,
      "outputs": []
    },
    {
      "cell_type": "code",
      "metadata": {
        "colab_type": "code",
        "id": "dNSd8xpMufSR",
        "outputId": "72f1782a-2659-468e-8b28-dd132b83a0fd",
        "colab": {
          "base_uri": "https://localhost:8080/",
          "height": 88
        }
      },
      "source": [
        "dfseltiment['target'].unique()"
      ],
      "execution_count": 0,
      "outputs": [
        {
          "output_type": "execute_result",
          "data": {
            "text/plain": [
              "array(['Women Reproductive right and Racism', 'Economy', 'Others',\n",
              "       'Scandal', 'Tell lies', 'Privilege', 'Climate Problem',\n",
              "       'Healthcare', 'Separation', 'Healthcare and Marijuana'],\n",
              "      dtype=object)"
            ]
          },
          "metadata": {
            "tags": []
          },
          "execution_count": 165
        }
      ]
    },
    {
      "cell_type": "markdown",
      "metadata": {
        "id": "n77HJ1faldOp",
        "colab_type": "text"
      },
      "source": [
        "for the reason first of all we put health care and marijuana together due to the reason is same while the sample of them is too less."
      ]
    },
    {
      "cell_type": "code",
      "metadata": {
        "id": "rPN96PN8rWG2",
        "colab_type": "code",
        "colab": {}
      },
      "source": [
        "dictneg={'Others':'Others',\n",
        " 'Climate Problem':'Climate Problem',\n",
        " 'Scandal':'Scandal',\n",
        " 'Tell lies':'Tell lies',\n",
        " 'Women Reproductive right and Racism':'Women Reproductive right and Racism',\n",
        " 'Separation':'Separation',\n",
        " 'Privilege':'Privilege',\n",
        " 'Economy':'Economy',\n",
        " 'Healthcare and Marijuana':'Healthcare',\n",
        " 'Healthcare':'Healthcare'}"
      ],
      "execution_count": 0,
      "outputs": []
    },
    {
      "cell_type": "code",
      "metadata": {
        "id": "krkrKMxJumgV",
        "colab_type": "code",
        "outputId": "85bcfb10-9195-45be-cac7-df62778236f6",
        "colab": {
          "base_uri": "https://localhost:8080/",
          "height": 70
        }
      },
      "source": [
        "dfseltiment['target']=dfseltiment['target'].map(dictneg)\n",
        "dfseltiment['target'].unique()"
      ],
      "execution_count": 0,
      "outputs": [
        {
          "output_type": "execute_result",
          "data": {
            "text/plain": [
              "array(['Women Reproductive right and Racism', 'Economy', 'Others',\n",
              "       'Scandal', 'Tell lies', 'Privilege', 'Climate Problem',\n",
              "       'Healthcare', 'Separation'], dtype=object)"
            ]
          },
          "metadata": {
            "tags": []
          },
          "execution_count": 167
        }
      ]
    },
    {
      "cell_type": "code",
      "metadata": {
        "id": "bnBD4YKdu5yQ",
        "colab_type": "code",
        "outputId": "2391621a-01de-4e7d-ce70-2f81fc070f00",
        "colab": {
          "base_uri": "https://localhost:8080/",
          "height": 195
        }
      },
      "source": [
        "dfseltiment['target'].value_counts()"
      ],
      "execution_count": 0,
      "outputs": [
        {
          "output_type": "execute_result",
          "data": {
            "text/plain": [
              "Others                                 364\n",
              "Scandal                                270\n",
              "Tell lies                              198\n",
              "Economy                                 51\n",
              "Women Reproductive right and Racism     45\n",
              "Climate Problem                         41\n",
              "Separation                              16\n",
              "Privilege                               12\n",
              "Healthcare                               9\n",
              "Name: target, dtype: int64"
            ]
          },
          "metadata": {
            "tags": []
          },
          "execution_count": 168
        }
      ]
    },
    {
      "cell_type": "markdown",
      "metadata": {
        "id": "nOoaroRP1UjI",
        "colab_type": "text"
      },
      "source": [
        "we just conclude the last 6 classes into 1 class due to the little sample number of them. After doing that we have 4 huge class : Others, Scandal, Tell lies and minority reason"
      ]
    },
    {
      "cell_type": "code",
      "metadata": {
        "id": "6rX76vnf3CdW",
        "colab_type": "code",
        "outputId": "b8902331-d867-43ad-ef64-2882d4434653",
        "colab": {
          "base_uri": "https://localhost:8080/",
          "height": 35
        }
      },
      "source": [
        "dictneg1={'Others':'Others',\n",
        " 'Climate Problem':' minority reason',\n",
        " 'Scandal':'Scandal',\n",
        " 'Tell lies':'Tell lies',\n",
        " 'Women Reproductive right and Racism':' minority reason',\n",
        " 'Separation':' minority reason',\n",
        " 'Privilege':' minority reason',\n",
        " 'Economy':' minority reason',\n",
        " 'Healthcare and Marijuana':' minority reason',\n",
        " 'Healthcare':' minority reason'}\n",
        "\n",
        "dfseltiment['target']=dfseltiment['target'].map(dictneg1)\n",
        "dfseltiment['target'].unique()"
      ],
      "execution_count": 0,
      "outputs": [
        {
          "output_type": "execute_result",
          "data": {
            "text/plain": [
              "array([' minority reason', 'Others', 'Scandal', 'Tell lies'], dtype=object)"
            ]
          },
          "metadata": {
            "tags": []
          },
          "execution_count": 169
        }
      ]
    },
    {
      "cell_type": "code",
      "metadata": {
        "id": "apZdJsUPtDTa",
        "colab_type": "code",
        "colab": {}
      },
      "source": [
        "X_trainpre , X_testpre, y_trainpre, y_testpre = train_test_split(dfseltiment.iloc[:,:-1], dfseltiment.iloc[:,-1], test_size=0.3)\n"
      ],
      "execution_count": 0,
      "outputs": []
    },
    {
      "cell_type": "markdown",
      "metadata": {
        "id": "urKZtvdh-6bV",
        "colab_type": "text"
      },
      "source": [
        "naive beyes"
      ]
    },
    {
      "cell_type": "code",
      "metadata": {
        "id": "meYcOPTn845V",
        "colab_type": "code",
        "colab": {}
      },
      "source": [
        "from sklearn.naive_bayes import MultinomialNB\n",
        "accuracylist=[]\n",
        "for i in [1,10,20,40,50,60,70,80,100]:\n",
        "  clf = MultinomialNB(alpha=i/100)\n",
        "  scores1=cross_val_score(clf,X_trainpre,y_trainpre,cv=10)\n",
        "  accuracyscore=scores1.mean()\n",
        "  accuracylist.append(accuracyscore)\n",
        "  "
      ],
      "execution_count": 0,
      "outputs": []
    },
    {
      "cell_type": "code",
      "metadata": {
        "id": "eBsHHKjw842c",
        "colab_type": "code",
        "outputId": "5a97820f-ad4e-4cce-86bc-0ad9054160f9",
        "colab": {
          "base_uri": "https://localhost:8080/",
          "height": 52
        }
      },
      "source": [
        "print(accuracylist.index(max(accuracylist)))\n",
        "print(max(accuracylist))"
      ],
      "execution_count": 0,
      "outputs": [
        {
          "output_type": "stream",
          "text": [
            "7\n",
            "0.48869215291750506\n"
          ],
          "name": "stdout"
        }
      ]
    },
    {
      "cell_type": "markdown",
      "metadata": {
        "id": "uGvUFjoKBkwt",
        "colab_type": "text"
      },
      "source": [
        "desicion tree"
      ]
    },
    {
      "cell_type": "code",
      "metadata": {
        "id": "zEAC23Yp_kDG",
        "colab_type": "code",
        "outputId": "3fc02eed-cd23-4266-b2a0-a60b275b79ed",
        "colab": {
          "base_uri": "https://localhost:8080/",
          "height": 35
        }
      },
      "source": [
        "from sklearn import tree\n",
        "clf = tree.DecisionTreeClassifier()\n",
        "clf.fit(X_trainpre,y_trainpre)\n",
        "y_pred=clf.predict(X_trainpre)\n",
        "accuracyscore=accuracy_score(y_pred,y_trainpre)\n",
        "accuracy"
      ],
      "execution_count": 0,
      "outputs": [
        {
          "output_type": "execute_result",
          "data": {
            "text/plain": [
              "0.46315895372233407"
            ]
          },
          "metadata": {
            "tags": []
          },
          "execution_count": 173
        }
      ]
    },
    {
      "cell_type": "code",
      "metadata": {
        "id": "PhzR4NSfCFyI",
        "colab_type": "code",
        "outputId": "434bcf05-ccb8-4b82-e790-a5dd48f56e1b",
        "colab": {
          "base_uri": "https://localhost:8080/",
          "height": 230
        }
      },
      "source": [
        "criterionlist=['gini','entropy']\n",
        "max_depthlist=[None,10,25,50,75,100]\n",
        "crilist=[]\n",
        "maxlist=[]\n",
        "accuracylist=[]\n",
        "for n in criterionlist:\n",
        "  for m in max_depthlist:\n",
        "    clf = tree.DecisionTreeClassifier(criterion=n,max_depth=m)\n",
        "    scores1=cross_val_score(clf,X_trainpre,y_trainpre,cv=10)\n",
        "    accuracyscore=scores1.mean()\n",
        "    crilist.append(n)\n",
        "    maxlist.append(m)\n",
        "    accuracylist.append(accuracyscore)\n",
        "    print(m,n)"
      ],
      "execution_count": 0,
      "outputs": [
        {
          "output_type": "stream",
          "text": [
            "None gini\n",
            "10 gini\n",
            "25 gini\n",
            "50 gini\n",
            "75 gini\n",
            "100 gini\n",
            "None entropy\n",
            "10 entropy\n",
            "25 entropy\n",
            "50 entropy\n",
            "75 entropy\n",
            "100 entropy\n"
          ],
          "name": "stdout"
        }
      ]
    },
    {
      "cell_type": "code",
      "metadata": {
        "id": "sQtjgYzTCI6H",
        "colab_type": "code",
        "outputId": "98864fe1-a1bc-426a-eb7e-526228b19dc1",
        "colab": {
          "base_uri": "https://localhost:8080/",
          "height": 52
        }
      },
      "source": [
        "print(max(accuracylist))\n",
        "accuracylist.index(max(accuracylist))"
      ],
      "execution_count": 0,
      "outputs": [
        {
          "output_type": "stream",
          "text": [
            "0.47317907444668006\n"
          ],
          "name": "stdout"
        },
        {
          "output_type": "execute_result",
          "data": {
            "text/plain": [
              "1"
            ]
          },
          "metadata": {
            "tags": []
          },
          "execution_count": 175
        }
      ]
    },
    {
      "cell_type": "markdown",
      "metadata": {
        "id": "rpfpxT5oioho",
        "colab_type": "text"
      },
      "source": [
        "LR"
      ]
    },
    {
      "cell_type": "code",
      "metadata": {
        "id": "D3UhmIz8Cnqv",
        "colab_type": "code",
        "outputId": "d302cef5-6167-40df-d319-66b10bfad5d4",
        "colab": {
          "base_uri": "https://localhost:8080/",
          "height": 70
        }
      },
      "source": [
        "from sklearn.model_selection import cross_val_score\n",
        "from sklearn.linear_model import LogisticRegression\n",
        "clf = LogisticRegression(max_iter=1000)\n",
        "clf.fit(X_trainpre, y_trainpre)\n",
        "accuracy=accuracy_score(y_trainpre,clf.predict(X_trainpre))\n",
        "accuracy\n",
        "#of course it is overfitting \n",
        "solverlist=['liblinear','lbfgs','newton-cg','sag']\n",
        "clist=[0.01,0.05,0.1,0.5,1]\n",
        "sollist=[]\n",
        "penlist=[]\n",
        "accuracylist=[]\n",
        "for m in solverlist:\n",
        "  for n in clist:\n",
        "    clf = LogisticRegression(C=n,solver=m,max_iter=1000)\n",
        "    scores1=cross_val_score(clf,X_trainpre, y_trainpre,cv=10)\n",
        "    accuracy=scores1.mean()\n",
        "    sollist.append(m)\n",
        "    penlist.append(n)\n",
        "    accuracylist.append(accuracy)\n",
        "\n",
        "print(max(accuracylist))\n",
        "print(penlist[accuracylist.index(max(accuracylist))])\n",
        "print(sollist[accuracylist.index(max(accuracylist))])    "
      ],
      "execution_count": 0,
      "outputs": [
        {
          "output_type": "stream",
          "text": [
            "0.5057344064386318\n",
            "0.1\n",
            "liblinear\n"
          ],
          "name": "stdout"
        }
      ]
    },
    {
      "cell_type": "markdown",
      "metadata": {
        "id": "qbnG25WzixdP",
        "colab_type": "text"
      },
      "source": [
        "we choose LR with c=0.1,colver='liblinear' and apply on test set"
      ]
    },
    {
      "cell_type": "code",
      "metadata": {
        "id": "ply_0Jrjin12",
        "colab_type": "code",
        "outputId": "12f79172-a773-43f2-c4cb-3a4e3af71478",
        "colab": {
          "base_uri": "https://localhost:8080/",
          "height": 35
        }
      },
      "source": [
        "clf = LogisticRegression(C=0.1,solver='liblinear',max_iter=1000)\n",
        "clf.fit(X_trainpre, y_trainpre)\n",
        "accuracy=accuracy_score(y_testpre,clf.predict(X_testpre))\n",
        "accuracy"
      ],
      "execution_count": 0,
      "outputs": [
        {
          "output_type": "execute_result",
          "data": {
            "text/plain": [
              "0.5298013245033113"
            ]
          },
          "metadata": {
            "tags": []
          },
          "execution_count": 177
        }
      ]
    },
    {
      "cell_type": "markdown",
      "metadata": {
        "id": "bhEKcwiAsiuJ",
        "colab_type": "text"
      },
      "source": [
        "we draw a confusion matrix for disscussion"
      ]
    },
    {
      "cell_type": "code",
      "metadata": {
        "id": "o5ysB8ulsh4i",
        "colab_type": "code",
        "outputId": "799ed50f-b871-4c18-95eb-4299f646306c",
        "colab": {
          "base_uri": "https://localhost:8080/",
          "height": 366
        }
      },
      "source": [
        "from sklearn.metrics import confusion_matrix\n",
        "import seaborn as sns\n",
        "\n",
        "ax= plt.subplot()\n",
        "sns.heatmap(confusion_matrix(y_testpre,clf.predict(X_testpre)), cmap='Blues', annot=True)\n",
        "ax.set_xlabel('Predicted labels')\n",
        "ax.set_ylabel('True labels') \n",
        "ax.set_title('Confusion Matrix') \n",
        "ax.xaxis.set_ticklabels(['minority reason','Others','Scandal','Tell lies'])\n",
        "ax.yaxis.set_ticklabels(['minority reason','Others','Scandal','Tell lies'],rotation=0)\n"
      ],
      "execution_count": 0,
      "outputs": [
        {
          "output_type": "execute_result",
          "data": {
            "text/plain": [
              "[Text(0, 0.5, 'minority reason'),\n",
              " Text(0, 1.5, 'Others'),\n",
              " Text(0, 2.5, 'Scandal'),\n",
              " Text(0, 3.5, 'Tell lies')]"
            ]
          },
          "metadata": {
            "tags": []
          },
          "execution_count": 217
        },
        {
          "output_type": "display_data",
          "data": {
            "image/png": "[encoded data removed]",
            "text/plain": [
              "<Figure size 432x288 with 2 Axes>"
            ]
          },
          "metadata": {
            "tags": []
          }
        }
      ]
    },
    {
      "cell_type": "markdown",
      "metadata": {
        "id": "haRy5QMOH8NI",
        "colab_type": "text"
      },
      "source": [
        "#result"
      ]
    },
    {
      "cell_type": "markdown",
      "metadata": {
        "id": "Vcu0i98UIB0f",
        "colab_type": "text"
      },
      "source": [
        "after selecting the best model on the training set, we choose logistic regression with WF."
      ]
    },
    {
      "cell_type": "markdown",
      "metadata": {
        "id": "FQUf16p1IWZU",
        "colab_type": "text"
      },
      "source": [
        "***Describe the results of the analysis and discuss your interpretation of the results***\n",
        "\n",
        "\n"
      ]
    },
    {
      "cell_type": "markdown",
      "metadata": {
        "id": "xcP8UtxFH8J7",
        "colab_type": "text"
      },
      "source": [
        "as we can see above the accuracy of the first model for predicting the sentiment of select-relating data is around 60%. When the model work on the training set the accuracy can reach 69.8%. The first reason causing this situation is that when we are doing the data preparation we choose the word whose WF is higher 50 as features and drop all the rest. Only 2000 unique words left. By doing this the crash is avoid while some useful information is lost either. The second reason is that the data set we choose to train and we choose to test is not exactly the same. Which means in the sentiment training set we do not 100% target on selection-sentiment analyzing. So perhaps the features we choose to do is not perfect match the test set and it causes decrease in accuracy.\n",
        "\n"
      ]
    },
    {
      "cell_type": "markdown",
      "metadata": {
        "id": "5V3ECdsUIMsj",
        "colab_type": "text"
      },
      "source": [
        "(after trying a larger training set with 20000 data points, we found that the accuracy does not significant change , still around 60%, so we delete those cell, but it somehow prove that the sample size we choose is feasible and reasonable)"
      ]
    },
    {
      "cell_type": "markdown",
      "metadata": {
        "id": "Gbsm5krgInBu",
        "colab_type": "text"
      },
      "source": [
        "***how each party is viewed in the public eye***\n"
      ]
    },
    {
      "cell_type": "markdown",
      "metadata": {
        "id": "2pp_7gMFNZ4q",
        "colab_type": "text"
      },
      "source": [
        "First of all, the length of each tweet after cleaning. As we can see distribution above, it all seems to have a same trendm they all reach the peak at about len=3 then drop. The only different between negative and positive is the total number of each of them is a little different, but the distribution seems to be exactly the same.\n",
        "There is also a 3rd class Neutral, the trend is also tends to be the same while there is another peak around len 1, perhaps because that the sample size is a little some and contains a little disturbance."
      ]
    },
    {
      "cell_type": "markdown",
      "metadata": {
        "id": "D66J0e1YP5EL",
        "colab_type": "text"
      },
      "source": [
        "Second, in the eye of pubilc, All the three parties( which is 4 in above , we add NDP ), the positive sample in NDP seems much more than the negetive sample in NDP, which perhaops means that the NDP is friendly ?\n",
        "And for the liber and NONE class, the postive sentiment takes about 50%  and the rest is nagetive. \n",
        "what we need to point out is that for the PPC, the public tends to be more friendly, as we can see there are 60% is postive with 40% is negative. perhaps guys think PPC will win the vote or PPC have a better reputation among the people."
      ]
    },
    {
      "cell_type": "markdown",
      "metadata": {
        "id": "gzZEtaezRlJI",
        "colab_type": "text"
      },
      "source": [
        "***For the second model***"
      ]
    },
    {
      "cell_type": "markdown",
      "metadata": {
        "id": "DkVJ_rUgRqRQ",
        "colab_type": "text"
      },
      "source": [
        "There are 2 reasons why the accuracy of the second model is relatively low. The first reason is that we just use the data after doing transform to train and test the model. We drop the word whose WF is lower than 50 which will cause information lossing in the process, especial the training set and the test set is one part of seletion set instead of sentiment set. The situation matching the sentiment set perhaps cant work well on the seletion set. The second reason is that the nagetive reason given by the dataset not not have a clear boundary. according to the confusion matrix we build in the last step, it can be showen clearly that all other class will be class into class \"other\". this perhaps because that when the data is collecting, any sample that can tell the reason will be put into class \"other\" and it cause that \"other\" class has various characteristic and cause a lot of noise for classification.  \n"
      ]
    },
    {
      "cell_type": "markdown",
      "metadata": {
        "id": "Hr6KndXnajYH",
        "colab_type": "text"
      },
      "source": [
        "***how to improve***"
      ]
    },
    {
      "cell_type": "markdown",
      "metadata": {
        "id": "iX2TRRChbuxq",
        "colab_type": "text"
      },
      "source": [
        "According to the 2 reasons stated before, for the second reason, it is caused by colletion of the data so perhaps there is not only one center in this class perhaps we can use mixture guassian distribution to improve this question. Then we focus on the first one. We can just use the selection dataset to do the vectorizer.fit_transform() instead of vectorizer.transform(). And do the feature selection again. By doing this we can create a model which is more matchable for the slection data.( what we apply now the result of doing feature selection on sentiment dataset) It can contains as much information as possible and will reduce the noise. And it can lead to a higher accuracy. "
      ]
    }
  ]
}